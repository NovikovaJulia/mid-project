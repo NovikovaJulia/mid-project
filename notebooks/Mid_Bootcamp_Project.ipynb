{
 "cells": [
  {
   "cell_type": "markdown",
   "id": "8bd10f88",
   "metadata": {},
   "source": [
    "<h1>Mid-Bootcamp project</h1>"
   ]
  },
  {
   "cell_type": "markdown",
   "id": "738aa45a",
   "metadata": {},
   "source": [
    "<h2>Dataset \"Ecommerce Customer Churn Analysis and Prediction\"</h2>"
   ]
  },
  {
   "cell_type": "markdown",
   "id": "bf4844d0",
   "metadata": {},
   "source": [
    "Origin of the dataset: https://www.kaggle.com/datasets/ankitverma2010/ecommerce-customer-churn-analysis-and-prediction"
   ]
  },
  {
   "cell_type": "markdown",
   "id": "cbfa2eab",
   "metadata": {},
   "source": [
    "<h2>About this dataset</h2>"
   ]
  },
  {
   "cell_type": "markdown",
   "id": "e45b63af",
   "metadata": {},
   "source": [
    "The data set belongs to a leading online E-Commerce company.\n",
    "\n",
    "An online retail company wants to know the customers who are going to churn, so accordingly they can approach customer to offer some promos."
   ]
  },
  {
   "cell_type": "markdown",
   "id": "e267eca8",
   "metadata": {},
   "source": [
    "<h2>Columns</h2>"
   ]
  },
  {
   "cell_type": "markdown",
   "id": "aca67f9e",
   "metadata": {},
   "source": [
    "1. **CustomerID** - Unique customer ID\n",
    "\n",
    "2. **Churn** - Churn Flag (1 - customer leave, 0 - customer stays and uses the service)\n",
    "\n",
    "3. **Tenure** - Tenure of customer in organization\n",
    "\n",
    "4. **PreferredLoginDevice**\t- Preferred login device of the customer\n",
    "\n",
    "5. **CityTier**\t- City tier\n",
    "\n",
    "6. **WarehouseToHome** - Distance in between warehouse to home of customer\n",
    "\n",
    "7. **PreferredPaymentMode**\t- Preferred payment method of customer\n",
    "\n",
    "8. **Gender** - Gender of customer\n",
    "\n",
    "9. **HourSpendOnApp** - Number of hours spend on mobile application or website\n",
    "\n",
    "10. **NumberOfDeviceRegistered** - Total number of deceives is registered on particular customer\n",
    "\n",
    "11. **PreferedOrderCat** - Preferred order category of customer in last month\n",
    "\n",
    "12. **SatisfactionScore** - Satisfactory score of customer on service\n",
    "\n",
    "13. **MaritalStatus** - Marital status of customer\n",
    "\n",
    "14. **NumberOfAddress**\t- Total number of addresses added on particular customer\n",
    "\n",
    "15. **Complain** - Any complaint has been raised in last month\n",
    "\n",
    "16. **OrderAmountHikeFromlastYear**\t- Percentage increases in order from last year\n",
    "\n",
    "17. **CouponUsed**\t- Total number of coupon has been used in last month\n",
    "\n",
    "18. **OrderCount** - Total number of orders has been places in last month\n",
    "\n",
    "19. **DaySinceLastOrder** - Day Since last order by customer\n",
    "\n",
    "20. **CashbackAmount** - Average cashback in last month"
   ]
  },
  {
   "cell_type": "markdown",
   "id": "ba5b2b40",
   "metadata": {},
   "source": [
    "<h2>The Goal of the project</h2>"
   ]
  },
  {
   "cell_type": "markdown",
   "id": "0ba297a1",
   "metadata": {},
   "source": [
    "1. Business insights we can get from the data.\n",
    "\n",
    "2. The company wants to know the customers who are going to churn."
   ]
  },
  {
   "cell_type": "markdown",
   "id": "f23f01a7",
   "metadata": {},
   "source": [
    "<h2>Part 1. Data exploration and cleaning</h2>"
   ]
  },
  {
   "cell_type": "code",
   "execution_count": 1,
   "id": "d07461df",
   "metadata": {},
   "outputs": [],
   "source": [
    "import pandas as pd\n",
    "import numpy as np\n",
    "import matplotlib.pyplot as plt\n",
    "import seaborn as sns"
   ]
  },
  {
   "cell_type": "code",
   "execution_count": 2,
   "id": "262c0137",
   "metadata": {},
   "outputs": [
    {
     "data": {
      "text/html": [
       "<div>\n",
       "<style scoped>\n",
       "    .dataframe tbody tr th:only-of-type {\n",
       "        vertical-align: middle;\n",
       "    }\n",
       "\n",
       "    .dataframe tbody tr th {\n",
       "        vertical-align: top;\n",
       "    }\n",
       "\n",
       "    .dataframe thead th {\n",
       "        text-align: right;\n",
       "    }\n",
       "</style>\n",
       "<table border=\"1\" class=\"dataframe\">\n",
       "  <thead>\n",
       "    <tr style=\"text-align: right;\">\n",
       "      <th></th>\n",
       "      <th>CustomerID</th>\n",
       "      <th>Churn</th>\n",
       "      <th>Tenure</th>\n",
       "      <th>PreferredLoginDevice</th>\n",
       "      <th>CityTier</th>\n",
       "      <th>WarehouseToHome</th>\n",
       "      <th>PreferredPaymentMode</th>\n",
       "      <th>Gender</th>\n",
       "      <th>HourSpendOnApp</th>\n",
       "      <th>NumberOfDeviceRegistered</th>\n",
       "      <th>PreferedOrderCat</th>\n",
       "      <th>SatisfactionScore</th>\n",
       "      <th>MaritalStatus</th>\n",
       "      <th>NumberOfAddress</th>\n",
       "      <th>Complain</th>\n",
       "      <th>OrderAmountHikeFromlastYear</th>\n",
       "      <th>CouponUsed</th>\n",
       "      <th>OrderCount</th>\n",
       "      <th>DaySinceLastOrder</th>\n",
       "      <th>CashbackAmount</th>\n",
       "    </tr>\n",
       "  </thead>\n",
       "  <tbody>\n",
       "    <tr>\n",
       "      <th>0</th>\n",
       "      <td>50001</td>\n",
       "      <td>1</td>\n",
       "      <td>4.0</td>\n",
       "      <td>Mobile Phone</td>\n",
       "      <td>3</td>\n",
       "      <td>6.0</td>\n",
       "      <td>Debit Card</td>\n",
       "      <td>Female</td>\n",
       "      <td>3.0</td>\n",
       "      <td>3</td>\n",
       "      <td>Laptop &amp; Accessory</td>\n",
       "      <td>2</td>\n",
       "      <td>Single</td>\n",
       "      <td>9</td>\n",
       "      <td>1</td>\n",
       "      <td>11.0</td>\n",
       "      <td>1.0</td>\n",
       "      <td>1.0</td>\n",
       "      <td>5.0</td>\n",
       "      <td>160</td>\n",
       "    </tr>\n",
       "    <tr>\n",
       "      <th>1</th>\n",
       "      <td>50002</td>\n",
       "      <td>1</td>\n",
       "      <td>NaN</td>\n",
       "      <td>Phone</td>\n",
       "      <td>1</td>\n",
       "      <td>8.0</td>\n",
       "      <td>UPI</td>\n",
       "      <td>Male</td>\n",
       "      <td>3.0</td>\n",
       "      <td>4</td>\n",
       "      <td>Mobile</td>\n",
       "      <td>3</td>\n",
       "      <td>Single</td>\n",
       "      <td>7</td>\n",
       "      <td>1</td>\n",
       "      <td>15.0</td>\n",
       "      <td>0.0</td>\n",
       "      <td>1.0</td>\n",
       "      <td>0.0</td>\n",
       "      <td>121</td>\n",
       "    </tr>\n",
       "    <tr>\n",
       "      <th>2</th>\n",
       "      <td>50003</td>\n",
       "      <td>1</td>\n",
       "      <td>NaN</td>\n",
       "      <td>Phone</td>\n",
       "      <td>1</td>\n",
       "      <td>30.0</td>\n",
       "      <td>Debit Card</td>\n",
       "      <td>Male</td>\n",
       "      <td>2.0</td>\n",
       "      <td>4</td>\n",
       "      <td>Mobile</td>\n",
       "      <td>3</td>\n",
       "      <td>Single</td>\n",
       "      <td>6</td>\n",
       "      <td>1</td>\n",
       "      <td>14.0</td>\n",
       "      <td>0.0</td>\n",
       "      <td>1.0</td>\n",
       "      <td>3.0</td>\n",
       "      <td>120</td>\n",
       "    </tr>\n",
       "    <tr>\n",
       "      <th>3</th>\n",
       "      <td>50004</td>\n",
       "      <td>1</td>\n",
       "      <td>0.0</td>\n",
       "      <td>Phone</td>\n",
       "      <td>3</td>\n",
       "      <td>15.0</td>\n",
       "      <td>Debit Card</td>\n",
       "      <td>Male</td>\n",
       "      <td>2.0</td>\n",
       "      <td>4</td>\n",
       "      <td>Laptop &amp; Accessory</td>\n",
       "      <td>5</td>\n",
       "      <td>Single</td>\n",
       "      <td>8</td>\n",
       "      <td>0</td>\n",
       "      <td>23.0</td>\n",
       "      <td>0.0</td>\n",
       "      <td>1.0</td>\n",
       "      <td>3.0</td>\n",
       "      <td>134</td>\n",
       "    </tr>\n",
       "    <tr>\n",
       "      <th>4</th>\n",
       "      <td>50005</td>\n",
       "      <td>1</td>\n",
       "      <td>0.0</td>\n",
       "      <td>Phone</td>\n",
       "      <td>1</td>\n",
       "      <td>12.0</td>\n",
       "      <td>CC</td>\n",
       "      <td>Male</td>\n",
       "      <td>NaN</td>\n",
       "      <td>3</td>\n",
       "      <td>Mobile</td>\n",
       "      <td>5</td>\n",
       "      <td>Single</td>\n",
       "      <td>3</td>\n",
       "      <td>0</td>\n",
       "      <td>11.0</td>\n",
       "      <td>1.0</td>\n",
       "      <td>1.0</td>\n",
       "      <td>3.0</td>\n",
       "      <td>130</td>\n",
       "    </tr>\n",
       "  </tbody>\n",
       "</table>\n",
       "</div>"
      ],
      "text/plain": [
       "   CustomerID  Churn  Tenure PreferredLoginDevice  CityTier  WarehouseToHome  \\\n",
       "0       50001      1     4.0         Mobile Phone         3              6.0   \n",
       "1       50002      1     NaN                Phone         1              8.0   \n",
       "2       50003      1     NaN                Phone         1             30.0   \n",
       "3       50004      1     0.0                Phone         3             15.0   \n",
       "4       50005      1     0.0                Phone         1             12.0   \n",
       "\n",
       "  PreferredPaymentMode  Gender  HourSpendOnApp  NumberOfDeviceRegistered  \\\n",
       "0           Debit Card  Female             3.0                         3   \n",
       "1                  UPI    Male             3.0                         4   \n",
       "2           Debit Card    Male             2.0                         4   \n",
       "3           Debit Card    Male             2.0                         4   \n",
       "4                   CC    Male             NaN                         3   \n",
       "\n",
       "     PreferedOrderCat  SatisfactionScore MaritalStatus  NumberOfAddress  \\\n",
       "0  Laptop & Accessory                  2        Single                9   \n",
       "1              Mobile                  3        Single                7   \n",
       "2              Mobile                  3        Single                6   \n",
       "3  Laptop & Accessory                  5        Single                8   \n",
       "4              Mobile                  5        Single                3   \n",
       "\n",
       "   Complain  OrderAmountHikeFromlastYear  CouponUsed  OrderCount  \\\n",
       "0         1                         11.0         1.0         1.0   \n",
       "1         1                         15.0         0.0         1.0   \n",
       "2         1                         14.0         0.0         1.0   \n",
       "3         0                         23.0         0.0         1.0   \n",
       "4         0                         11.0         1.0         1.0   \n",
       "\n",
       "   DaySinceLastOrder  CashbackAmount  \n",
       "0                5.0             160  \n",
       "1                0.0             121  \n",
       "2                3.0             120  \n",
       "3                3.0             134  \n",
       "4                3.0             130  "
      ]
     },
     "execution_count": 2,
     "metadata": {},
     "output_type": "execute_result"
    }
   ],
   "source": [
    "data = pd.read_csv('../data/raw/data.csv')\n",
    "pd.set_option('display.max_columns', None)\n",
    "data.head()"
   ]
  },
  {
   "cell_type": "markdown",
   "id": "c4f7f41c",
   "metadata": {},
   "source": [
    "<h3>1.1 Making dataset easier to read</h3>"
   ]
  },
  {
   "cell_type": "code",
   "execution_count": 3,
   "id": "344ce6f7",
   "metadata": {},
   "outputs": [],
   "source": [
    "# Function for data cleaning\n",
    "\n",
    "def clean_data(data):\n",
    "    data_cleaned = data.copy()\n",
    "\n",
    "# Standardizing header names: \n",
    "# 1) Converting names to lowercase and\n",
    "# 2) Replacing spaces by underscores '_'\n",
    "\n",
    "    cols = []\n",
    "    for col in data_cleaned.columns:\n",
    "        cols.append(col.lower().replace(' ', '_'))\n",
    "    data_cleaned.columns = cols\n",
    "\n",
    "# Deleting duplicates\n",
    "\n",
    "    data_cleaned = data_cleaned.drop_duplicates()\n",
    "    \n",
    "    data_cleaned = data_cleaned.rename(columns={\"customerid\": \"customer_id\",\"preferredlogindevice\": \"preferred_login_device\", \"citytier\": \"city_tier\",\n",
    "       \"warehousetohome\": \"warehouse_to_home\", \"preferredpaymentmode\": \"preferred_payment_mode\", \"hourspendonapp\": \"hour_spend_on_app\",\n",
    "       \"numberofdeviceregistered\": \"number_of_device_registered\", \"preferedordercat\": \"preferred_order_category\", \"satisfactionscore\": \"satisfaction_score\",\n",
    "       \"maritalstatus\": \"marital_status\", \"numberofaddress\": \"number_of_address\",\n",
    "       \"orderamounthikefromlastyear\": \"order_amount_hike_from_last_year\", \"couponused\": \"coupon_used\", \"ordercount\": \"order_count\",\n",
    "       \"daysincelastorder\": \"day_since_last_order\", \"cashbackamount\": \"cashback_amount\"})\n",
    "    \n",
    "    return data_cleaned"
   ]
  },
  {
   "cell_type": "code",
   "execution_count": 4,
   "id": "98a934f7",
   "metadata": {},
   "outputs": [
    {
     "data": {
      "text/html": [
       "<div>\n",
       "<style scoped>\n",
       "    .dataframe tbody tr th:only-of-type {\n",
       "        vertical-align: middle;\n",
       "    }\n",
       "\n",
       "    .dataframe tbody tr th {\n",
       "        vertical-align: top;\n",
       "    }\n",
       "\n",
       "    .dataframe thead th {\n",
       "        text-align: right;\n",
       "    }\n",
       "</style>\n",
       "<table border=\"1\" class=\"dataframe\">\n",
       "  <thead>\n",
       "    <tr style=\"text-align: right;\">\n",
       "      <th></th>\n",
       "      <th>customer_id</th>\n",
       "      <th>churn</th>\n",
       "      <th>tenure</th>\n",
       "      <th>preferred_login_device</th>\n",
       "      <th>city_tier</th>\n",
       "      <th>warehouse_to_home</th>\n",
       "      <th>preferred_payment_mode</th>\n",
       "      <th>gender</th>\n",
       "      <th>hour_spend_on_app</th>\n",
       "      <th>number_of_device_registered</th>\n",
       "      <th>preferred_order_category</th>\n",
       "      <th>satisfaction_score</th>\n",
       "      <th>marital_status</th>\n",
       "      <th>number_of_address</th>\n",
       "      <th>complain</th>\n",
       "      <th>order_amount_hike_from_last_year</th>\n",
       "      <th>coupon_used</th>\n",
       "      <th>order_count</th>\n",
       "      <th>day_since_last_order</th>\n",
       "      <th>cashback_amount</th>\n",
       "    </tr>\n",
       "  </thead>\n",
       "  <tbody>\n",
       "    <tr>\n",
       "      <th>0</th>\n",
       "      <td>50001</td>\n",
       "      <td>1</td>\n",
       "      <td>4.0</td>\n",
       "      <td>Mobile Phone</td>\n",
       "      <td>3</td>\n",
       "      <td>6.0</td>\n",
       "      <td>Debit Card</td>\n",
       "      <td>Female</td>\n",
       "      <td>3.0</td>\n",
       "      <td>3</td>\n",
       "      <td>Laptop &amp; Accessory</td>\n",
       "      <td>2</td>\n",
       "      <td>Single</td>\n",
       "      <td>9</td>\n",
       "      <td>1</td>\n",
       "      <td>11.0</td>\n",
       "      <td>1.0</td>\n",
       "      <td>1.0</td>\n",
       "      <td>5.0</td>\n",
       "      <td>160</td>\n",
       "    </tr>\n",
       "    <tr>\n",
       "      <th>1</th>\n",
       "      <td>50002</td>\n",
       "      <td>1</td>\n",
       "      <td>NaN</td>\n",
       "      <td>Phone</td>\n",
       "      <td>1</td>\n",
       "      <td>8.0</td>\n",
       "      <td>UPI</td>\n",
       "      <td>Male</td>\n",
       "      <td>3.0</td>\n",
       "      <td>4</td>\n",
       "      <td>Mobile</td>\n",
       "      <td>3</td>\n",
       "      <td>Single</td>\n",
       "      <td>7</td>\n",
       "      <td>1</td>\n",
       "      <td>15.0</td>\n",
       "      <td>0.0</td>\n",
       "      <td>1.0</td>\n",
       "      <td>0.0</td>\n",
       "      <td>121</td>\n",
       "    </tr>\n",
       "    <tr>\n",
       "      <th>2</th>\n",
       "      <td>50003</td>\n",
       "      <td>1</td>\n",
       "      <td>NaN</td>\n",
       "      <td>Phone</td>\n",
       "      <td>1</td>\n",
       "      <td>30.0</td>\n",
       "      <td>Debit Card</td>\n",
       "      <td>Male</td>\n",
       "      <td>2.0</td>\n",
       "      <td>4</td>\n",
       "      <td>Mobile</td>\n",
       "      <td>3</td>\n",
       "      <td>Single</td>\n",
       "      <td>6</td>\n",
       "      <td>1</td>\n",
       "      <td>14.0</td>\n",
       "      <td>0.0</td>\n",
       "      <td>1.0</td>\n",
       "      <td>3.0</td>\n",
       "      <td>120</td>\n",
       "    </tr>\n",
       "    <tr>\n",
       "      <th>3</th>\n",
       "      <td>50004</td>\n",
       "      <td>1</td>\n",
       "      <td>0.0</td>\n",
       "      <td>Phone</td>\n",
       "      <td>3</td>\n",
       "      <td>15.0</td>\n",
       "      <td>Debit Card</td>\n",
       "      <td>Male</td>\n",
       "      <td>2.0</td>\n",
       "      <td>4</td>\n",
       "      <td>Laptop &amp; Accessory</td>\n",
       "      <td>5</td>\n",
       "      <td>Single</td>\n",
       "      <td>8</td>\n",
       "      <td>0</td>\n",
       "      <td>23.0</td>\n",
       "      <td>0.0</td>\n",
       "      <td>1.0</td>\n",
       "      <td>3.0</td>\n",
       "      <td>134</td>\n",
       "    </tr>\n",
       "    <tr>\n",
       "      <th>4</th>\n",
       "      <td>50005</td>\n",
       "      <td>1</td>\n",
       "      <td>0.0</td>\n",
       "      <td>Phone</td>\n",
       "      <td>1</td>\n",
       "      <td>12.0</td>\n",
       "      <td>CC</td>\n",
       "      <td>Male</td>\n",
       "      <td>NaN</td>\n",
       "      <td>3</td>\n",
       "      <td>Mobile</td>\n",
       "      <td>5</td>\n",
       "      <td>Single</td>\n",
       "      <td>3</td>\n",
       "      <td>0</td>\n",
       "      <td>11.0</td>\n",
       "      <td>1.0</td>\n",
       "      <td>1.0</td>\n",
       "      <td>3.0</td>\n",
       "      <td>130</td>\n",
       "    </tr>\n",
       "  </tbody>\n",
       "</table>\n",
       "</div>"
      ],
      "text/plain": [
       "   customer_id  churn  tenure preferred_login_device  city_tier  \\\n",
       "0        50001      1     4.0           Mobile Phone          3   \n",
       "1        50002      1     NaN                  Phone          1   \n",
       "2        50003      1     NaN                  Phone          1   \n",
       "3        50004      1     0.0                  Phone          3   \n",
       "4        50005      1     0.0                  Phone          1   \n",
       "\n",
       "   warehouse_to_home preferred_payment_mode  gender  hour_spend_on_app  \\\n",
       "0                6.0             Debit Card  Female                3.0   \n",
       "1                8.0                    UPI    Male                3.0   \n",
       "2               30.0             Debit Card    Male                2.0   \n",
       "3               15.0             Debit Card    Male                2.0   \n",
       "4               12.0                     CC    Male                NaN   \n",
       "\n",
       "   number_of_device_registered preferred_order_category  satisfaction_score  \\\n",
       "0                            3       Laptop & Accessory                   2   \n",
       "1                            4                   Mobile                   3   \n",
       "2                            4                   Mobile                   3   \n",
       "3                            4       Laptop & Accessory                   5   \n",
       "4                            3                   Mobile                   5   \n",
       "\n",
       "  marital_status  number_of_address  complain  \\\n",
       "0         Single                  9         1   \n",
       "1         Single                  7         1   \n",
       "2         Single                  6         1   \n",
       "3         Single                  8         0   \n",
       "4         Single                  3         0   \n",
       "\n",
       "   order_amount_hike_from_last_year  coupon_used  order_count  \\\n",
       "0                              11.0          1.0          1.0   \n",
       "1                              15.0          0.0          1.0   \n",
       "2                              14.0          0.0          1.0   \n",
       "3                              23.0          0.0          1.0   \n",
       "4                              11.0          1.0          1.0   \n",
       "\n",
       "   day_since_last_order  cashback_amount  \n",
       "0                   5.0              160  \n",
       "1                   0.0              121  \n",
       "2                   3.0              120  \n",
       "3                   3.0              134  \n",
       "4                   3.0              130  "
      ]
     },
     "execution_count": 4,
     "metadata": {},
     "output_type": "execute_result"
    }
   ],
   "source": [
    "data = clean_data(data)\n",
    "data.head()"
   ]
  },
  {
   "cell_type": "markdown",
   "id": "2cf09ccf",
   "metadata": {},
   "source": [
    "Now it's easier to work with this dataset."
   ]
  },
  {
   "cell_type": "markdown",
   "id": "7f9113aa",
   "metadata": {},
   "source": [
    "<h3>1.2 Data exploration</h3>"
   ]
  },
  {
   "cell_type": "code",
   "execution_count": 5,
   "id": "37fc3bba",
   "metadata": {},
   "outputs": [],
   "source": [
    "# Function for data exploration\n",
    "\n",
    "def explore_data(data):\n",
    "\n",
    "    # Data description and info\n",
    "    data.info()\n",
    "    data.describe()\n",
    "    \n",
    "    # Checking numerical and categoracal columns of the dataframe\n",
    "    numerical = data.select_dtypes(np.number)\n",
    "    categorical = data.select_dtypes(object)\n",
    "    display(numerical.head())\n",
    "    display(categorical.head())\n",
    "\n",
    "    # Histogram of the target column\n",
    "    plt.figure()\n",
    "    data['churn'].hist()\n",
    "\n",
    "    # Using Matplotlib to construct histograms for all numerical columns\n",
    "    plt.style.context('ggplot')    \n",
    "    for column_name in numerical.columns:\n",
    "        plt.figure()\n",
    "        fig,ax = plt.subplots()\n",
    "        ax.set_title(column_name)\n",
    "        plt.hist(numerical[column_name], bins=20)\n",
    "        plt.show()\n",
    "        display(numerical[column_name].unique())\n",
    "    \n",
    "    return data"
   ]
  },
  {
   "cell_type": "code",
   "execution_count": 6,
   "id": "1bed0abd",
   "metadata": {},
   "outputs": [
    {
     "name": "stdout",
     "output_type": "stream",
     "text": [
      "<class 'pandas.core.frame.DataFrame'>\n",
      "Int64Index: 5630 entries, 0 to 5629\n",
      "Data columns (total 20 columns):\n",
      " #   Column                            Non-Null Count  Dtype  \n",
      "---  ------                            --------------  -----  \n",
      " 0   customer_id                       5630 non-null   int64  \n",
      " 1   churn                             5630 non-null   int64  \n",
      " 2   tenure                            5366 non-null   float64\n",
      " 3   preferred_login_device            5630 non-null   object \n",
      " 4   city_tier                         5630 non-null   int64  \n",
      " 5   warehouse_to_home                 5379 non-null   float64\n",
      " 6   preferred_payment_mode            5630 non-null   object \n",
      " 7   gender                            5630 non-null   object \n",
      " 8   hour_spend_on_app                 5375 non-null   float64\n",
      " 9   number_of_device_registered       5630 non-null   int64  \n",
      " 10  preferred_order_category          5630 non-null   object \n",
      " 11  satisfaction_score                5630 non-null   int64  \n",
      " 12  marital_status                    5630 non-null   object \n",
      " 13  number_of_address                 5630 non-null   int64  \n",
      " 14  complain                          5630 non-null   int64  \n",
      " 15  order_amount_hike_from_last_year  5365 non-null   float64\n",
      " 16  coupon_used                       5374 non-null   float64\n",
      " 17  order_count                       5372 non-null   float64\n",
      " 18  day_since_last_order              5323 non-null   float64\n",
      " 19  cashback_amount                   5630 non-null   int64  \n",
      "dtypes: float64(7), int64(8), object(5)\n",
      "memory usage: 923.7+ KB\n"
     ]
    },
    {
     "data": {
      "text/html": [
       "<div>\n",
       "<style scoped>\n",
       "    .dataframe tbody tr th:only-of-type {\n",
       "        vertical-align: middle;\n",
       "    }\n",
       "\n",
       "    .dataframe tbody tr th {\n",
       "        vertical-align: top;\n",
       "    }\n",
       "\n",
       "    .dataframe thead th {\n",
       "        text-align: right;\n",
       "    }\n",
       "</style>\n",
       "<table border=\"1\" class=\"dataframe\">\n",
       "  <thead>\n",
       "    <tr style=\"text-align: right;\">\n",
       "      <th></th>\n",
       "      <th>customer_id</th>\n",
       "      <th>churn</th>\n",
       "      <th>tenure</th>\n",
       "      <th>city_tier</th>\n",
       "      <th>warehouse_to_home</th>\n",
       "      <th>hour_spend_on_app</th>\n",
       "      <th>number_of_device_registered</th>\n",
       "      <th>satisfaction_score</th>\n",
       "      <th>number_of_address</th>\n",
       "      <th>complain</th>\n",
       "      <th>order_amount_hike_from_last_year</th>\n",
       "      <th>coupon_used</th>\n",
       "      <th>order_count</th>\n",
       "      <th>day_since_last_order</th>\n",
       "      <th>cashback_amount</th>\n",
       "    </tr>\n",
       "  </thead>\n",
       "  <tbody>\n",
       "    <tr>\n",
       "      <th>0</th>\n",
       "      <td>50001</td>\n",
       "      <td>1</td>\n",
       "      <td>4.0</td>\n",
       "      <td>3</td>\n",
       "      <td>6.0</td>\n",
       "      <td>3.0</td>\n",
       "      <td>3</td>\n",
       "      <td>2</td>\n",
       "      <td>9</td>\n",
       "      <td>1</td>\n",
       "      <td>11.0</td>\n",
       "      <td>1.0</td>\n",
       "      <td>1.0</td>\n",
       "      <td>5.0</td>\n",
       "      <td>160</td>\n",
       "    </tr>\n",
       "    <tr>\n",
       "      <th>1</th>\n",
       "      <td>50002</td>\n",
       "      <td>1</td>\n",
       "      <td>NaN</td>\n",
       "      <td>1</td>\n",
       "      <td>8.0</td>\n",
       "      <td>3.0</td>\n",
       "      <td>4</td>\n",
       "      <td>3</td>\n",
       "      <td>7</td>\n",
       "      <td>1</td>\n",
       "      <td>15.0</td>\n",
       "      <td>0.0</td>\n",
       "      <td>1.0</td>\n",
       "      <td>0.0</td>\n",
       "      <td>121</td>\n",
       "    </tr>\n",
       "    <tr>\n",
       "      <th>2</th>\n",
       "      <td>50003</td>\n",
       "      <td>1</td>\n",
       "      <td>NaN</td>\n",
       "      <td>1</td>\n",
       "      <td>30.0</td>\n",
       "      <td>2.0</td>\n",
       "      <td>4</td>\n",
       "      <td>3</td>\n",
       "      <td>6</td>\n",
       "      <td>1</td>\n",
       "      <td>14.0</td>\n",
       "      <td>0.0</td>\n",
       "      <td>1.0</td>\n",
       "      <td>3.0</td>\n",
       "      <td>120</td>\n",
       "    </tr>\n",
       "    <tr>\n",
       "      <th>3</th>\n",
       "      <td>50004</td>\n",
       "      <td>1</td>\n",
       "      <td>0.0</td>\n",
       "      <td>3</td>\n",
       "      <td>15.0</td>\n",
       "      <td>2.0</td>\n",
       "      <td>4</td>\n",
       "      <td>5</td>\n",
       "      <td>8</td>\n",
       "      <td>0</td>\n",
       "      <td>23.0</td>\n",
       "      <td>0.0</td>\n",
       "      <td>1.0</td>\n",
       "      <td>3.0</td>\n",
       "      <td>134</td>\n",
       "    </tr>\n",
       "    <tr>\n",
       "      <th>4</th>\n",
       "      <td>50005</td>\n",
       "      <td>1</td>\n",
       "      <td>0.0</td>\n",
       "      <td>1</td>\n",
       "      <td>12.0</td>\n",
       "      <td>NaN</td>\n",
       "      <td>3</td>\n",
       "      <td>5</td>\n",
       "      <td>3</td>\n",
       "      <td>0</td>\n",
       "      <td>11.0</td>\n",
       "      <td>1.0</td>\n",
       "      <td>1.0</td>\n",
       "      <td>3.0</td>\n",
       "      <td>130</td>\n",
       "    </tr>\n",
       "  </tbody>\n",
       "</table>\n",
       "</div>"
      ],
      "text/plain": [
       "   customer_id  churn  tenure  city_tier  warehouse_to_home  \\\n",
       "0        50001      1     4.0          3                6.0   \n",
       "1        50002      1     NaN          1                8.0   \n",
       "2        50003      1     NaN          1               30.0   \n",
       "3        50004      1     0.0          3               15.0   \n",
       "4        50005      1     0.0          1               12.0   \n",
       "\n",
       "   hour_spend_on_app  number_of_device_registered  satisfaction_score  \\\n",
       "0                3.0                            3                   2   \n",
       "1                3.0                            4                   3   \n",
       "2                2.0                            4                   3   \n",
       "3                2.0                            4                   5   \n",
       "4                NaN                            3                   5   \n",
       "\n",
       "   number_of_address  complain  order_amount_hike_from_last_year  coupon_used  \\\n",
       "0                  9         1                              11.0          1.0   \n",
       "1                  7         1                              15.0          0.0   \n",
       "2                  6         1                              14.0          0.0   \n",
       "3                  8         0                              23.0          0.0   \n",
       "4                  3         0                              11.0          1.0   \n",
       "\n",
       "   order_count  day_since_last_order  cashback_amount  \n",
       "0          1.0                   5.0              160  \n",
       "1          1.0                   0.0              121  \n",
       "2          1.0                   3.0              120  \n",
       "3          1.0                   3.0              134  \n",
       "4          1.0                   3.0              130  "
      ]
     },
     "metadata": {},
     "output_type": "display_data"
    },
    {
     "data": {
      "text/html": [
       "<div>\n",
       "<style scoped>\n",
       "    .dataframe tbody tr th:only-of-type {\n",
       "        vertical-align: middle;\n",
       "    }\n",
       "\n",
       "    .dataframe tbody tr th {\n",
       "        vertical-align: top;\n",
       "    }\n",
       "\n",
       "    .dataframe thead th {\n",
       "        text-align: right;\n",
       "    }\n",
       "</style>\n",
       "<table border=\"1\" class=\"dataframe\">\n",
       "  <thead>\n",
       "    <tr style=\"text-align: right;\">\n",
       "      <th></th>\n",
       "      <th>preferred_login_device</th>\n",
       "      <th>preferred_payment_mode</th>\n",
       "      <th>gender</th>\n",
       "      <th>preferred_order_category</th>\n",
       "      <th>marital_status</th>\n",
       "    </tr>\n",
       "  </thead>\n",
       "  <tbody>\n",
       "    <tr>\n",
       "      <th>0</th>\n",
       "      <td>Mobile Phone</td>\n",
       "      <td>Debit Card</td>\n",
       "      <td>Female</td>\n",
       "      <td>Laptop &amp; Accessory</td>\n",
       "      <td>Single</td>\n",
       "    </tr>\n",
       "    <tr>\n",
       "      <th>1</th>\n",
       "      <td>Phone</td>\n",
       "      <td>UPI</td>\n",
       "      <td>Male</td>\n",
       "      <td>Mobile</td>\n",
       "      <td>Single</td>\n",
       "    </tr>\n",
       "    <tr>\n",
       "      <th>2</th>\n",
       "      <td>Phone</td>\n",
       "      <td>Debit Card</td>\n",
       "      <td>Male</td>\n",
       "      <td>Mobile</td>\n",
       "      <td>Single</td>\n",
       "    </tr>\n",
       "    <tr>\n",
       "      <th>3</th>\n",
       "      <td>Phone</td>\n",
       "      <td>Debit Card</td>\n",
       "      <td>Male</td>\n",
       "      <td>Laptop &amp; Accessory</td>\n",
       "      <td>Single</td>\n",
       "    </tr>\n",
       "    <tr>\n",
       "      <th>4</th>\n",
       "      <td>Phone</td>\n",
       "      <td>CC</td>\n",
       "      <td>Male</td>\n",
       "      <td>Mobile</td>\n",
       "      <td>Single</td>\n",
       "    </tr>\n",
       "  </tbody>\n",
       "</table>\n",
       "</div>"
      ],
      "text/plain": [
       "  preferred_login_device preferred_payment_mode  gender  \\\n",
       "0           Mobile Phone             Debit Card  Female   \n",
       "1                  Phone                    UPI    Male   \n",
       "2                  Phone             Debit Card    Male   \n",
       "3                  Phone             Debit Card    Male   \n",
       "4                  Phone                     CC    Male   \n",
       "\n",
       "  preferred_order_category marital_status  \n",
       "0       Laptop & Accessory         Single  \n",
       "1                   Mobile         Single  \n",
       "2                   Mobile         Single  \n",
       "3       Laptop & Accessory         Single  \n",
       "4                   Mobile         Single  "
      ]
     },
     "metadata": {},
     "output_type": "display_data"
    },
    {
     "data": {
      "image/png": "[encoded data removed]",
      "text/plain": [
       "<Figure size 640x480 with 1 Axes>"
      ]
     },
     "metadata": {},
     "output_type": "display_data"
    },
    {
     "data": {
      "text/plain": [
       "<Figure size 640x480 with 0 Axes>"
      ]
     },
     "metadata": {},
     "output_type": "display_data"
    },
    {
     "data": {
      "image/png": "[encoded data removed]",
      "text/plain": [
       "<Figure size 640x480 with 1 Axes>"
      ]
     },
     "metadata": {},
     "output_type": "display_data"
    },
    {
     "data": {
      "text/plain": [
       "array([50001, 50002, 50003, ..., 55628, 55629, 55630])"
      ]
     },
     "metadata": {},
     "output_type": "display_data"
    },
    {
     "data": {
      "text/plain": [
       "<Figure size 640x480 with 0 Axes>"
      ]
     },
     "metadata": {},
     "output_type": "display_data"
    },
    {
     "data": {
      "image/png": "[encoded data removed]",
      "text/plain": [
       "<Figure size 640x480 with 1 Axes>"
      ]
     },
     "metadata": {},
     "output_type": "display_data"
    },
    {
     "data": {
      "text/plain": [
       "array([1, 0])"
      ]
     },
     "metadata": {},
     "output_type": "display_data"
    },
    {
     "data": {
      "text/plain": [
       "<Figure size 640x480 with 0 Axes>"
      ]
     },
     "metadata": {},
     "output_type": "display_data"
    },
    {
     "data": {
      "image/png": "[encoded data removed]",
      "text/plain": [
       "<Figure size 640x480 with 1 Axes>"
      ]
     },
     "metadata": {},
     "output_type": "display_data"
    },
    {
     "data": {
      "text/plain": [
       "array([ 4., nan,  0., 13., 11.,  9., 19., 20., 14.,  8., 18.,  5.,  2.,\n",
       "       30.,  1., 23.,  3., 29.,  6., 26., 28.,  7., 24., 25., 10., 15.,\n",
       "       22., 27., 16., 12., 21., 17., 50., 60., 31., 51., 61.])"
      ]
     },
     "metadata": {},
     "output_type": "display_data"
    },
    {
     "data": {
      "text/plain": [
       "<Figure size 640x480 with 0 Axes>"
      ]
     },
     "metadata": {},
     "output_type": "display_data"
    },
    {
     "data": {
      "image/png": "[encoded data removed]",
      "text/plain": [
       "<Figure size 640x480 with 1 Axes>"
      ]
     },
     "metadata": {},
     "output_type": "display_data"
    },
    {
     "data": {
      "text/plain": [
       "array([3, 1, 2])"
      ]
     },
     "metadata": {},
     "output_type": "display_data"
    },
    {
     "data": {
      "text/plain": [
       "<Figure size 640x480 with 0 Axes>"
      ]
     },
     "metadata": {},
     "output_type": "display_data"
    },
    {
     "data": {
      "image/png": "[encoded data removed]",
      "text/plain": [
       "<Figure size 640x480 with 1 Axes>"
      ]
     },
     "metadata": {},
     "output_type": "display_data"
    },
    {
     "data": {
      "text/plain": [
       "array([  6.,   8.,  30.,  15.,  12.,  22.,  11.,   9.,  31.,  18.,  13.,\n",
       "        20.,  29.,  28.,  26.,  14.,  nan,  10.,  27.,  17.,  23.,  33.,\n",
       "        19.,  35.,  24.,  16.,  25.,  32.,  34.,   5.,  21., 126.,   7.,\n",
       "        36., 127.])"
      ]
     },
     "metadata": {},
     "output_type": "display_data"
    },
    {
     "data": {
      "text/plain": [
       "<Figure size 640x480 with 0 Axes>"
      ]
     },
     "metadata": {},
     "output_type": "display_data"
    },
    {
     "data": {
      "image/png": "[encoded data removed]",
      "text/plain": [
       "<Figure size 640x480 with 1 Axes>"
      ]
     },
     "metadata": {},
     "output_type": "display_data"
    },
    {
     "data": {
      "text/plain": [
       "array([ 3.,  2., nan,  1.,  0.,  4.,  5.])"
      ]
     },
     "metadata": {},
     "output_type": "display_data"
    },
    {
     "data": {
      "text/plain": [
       "<Figure size 640x480 with 0 Axes>"
      ]
     },
     "metadata": {},
     "output_type": "display_data"
    },
    {
     "data": {
      "image/png": "[encoded data removed]",
      "text/plain": [
       "<Figure size 640x480 with 1 Axes>"
      ]
     },
     "metadata": {},
     "output_type": "display_data"
    },
    {
     "data": {
      "text/plain": [
       "array([3, 4, 5, 2, 1, 6])"
      ]
     },
     "metadata": {},
     "output_type": "display_data"
    },
    {
     "data": {
      "text/plain": [
       "<Figure size 640x480 with 0 Axes>"
      ]
     },
     "metadata": {},
     "output_type": "display_data"
    },
    {
     "data": {
      "image/png": "[encoded data removed]",
      "text/plain": [
       "<Figure size 640x480 with 1 Axes>"
      ]
     },
     "metadata": {},
     "output_type": "display_data"
    },
    {
     "data": {
      "text/plain": [
       "array([2, 3, 5, 4, 1])"
      ]
     },
     "metadata": {},
     "output_type": "display_data"
    },
    {
     "data": {
      "text/plain": [
       "<Figure size 640x480 with 0 Axes>"
      ]
     },
     "metadata": {},
     "output_type": "display_data"
    },
    {
     "data": {
      "image/png": "[encoded data removed]",
      "text/plain": [
       "<Figure size 640x480 with 1 Axes>"
      ]
     },
     "metadata": {},
     "output_type": "display_data"
    },
    {
     "data": {
      "text/plain": [
       "array([ 9,  7,  6,  8,  3,  2,  4, 10,  1,  5, 19, 21, 11, 20, 22])"
      ]
     },
     "metadata": {},
     "output_type": "display_data"
    },
    {
     "data": {
      "text/plain": [
       "<Figure size 640x480 with 0 Axes>"
      ]
     },
     "metadata": {},
     "output_type": "display_data"
    },
    {
     "data": {
      "image/png": "[encoded data removed]",
      "text/plain": [
       "<Figure size 640x480 with 1 Axes>"
      ]
     },
     "metadata": {},
     "output_type": "display_data"
    },
    {
     "data": {
      "text/plain": [
       "array([1, 0])"
      ]
     },
     "metadata": {},
     "output_type": "display_data"
    },
    {
     "data": {
      "text/plain": [
       "<Figure size 640x480 with 0 Axes>"
      ]
     },
     "metadata": {},
     "output_type": "display_data"
    },
    {
     "data": {
      "image/png": "[encoded data removed]",
      "text/plain": [
       "<Figure size 640x480 with 1 Axes>"
      ]
     },
     "metadata": {},
     "output_type": "display_data"
    },
    {
     "data": {
      "text/plain": [
       "array([11., 15., 14., 23., 22., 16., 12., nan, 13., 17., 18., 24., 19.,\n",
       "       20., 21., 25., 26.])"
      ]
     },
     "metadata": {},
     "output_type": "display_data"
    },
    {
     "data": {
      "text/plain": [
       "<Figure size 640x480 with 0 Axes>"
      ]
     },
     "metadata": {},
     "output_type": "display_data"
    },
    {
     "data": {
      "image/png": "[encoded data removed]",
      "text/plain": [
       "<Figure size 640x480 with 1 Axes>"
      ]
     },
     "metadata": {},
     "output_type": "display_data"
    },
    {
     "data": {
      "text/plain": [
       "array([ 1.,  0.,  4.,  2.,  9.,  6., 11., nan,  7., 12., 10.,  5.,  3.,\n",
       "       13., 15.,  8., 14., 16.])"
      ]
     },
     "metadata": {},
     "output_type": "display_data"
    },
    {
     "data": {
      "text/plain": [
       "<Figure size 640x480 with 0 Axes>"
      ]
     },
     "metadata": {},
     "output_type": "display_data"
    },
    {
     "data": {
      "image/png": "[encoded data removed]",
      "text/plain": [
       "<Figure size 640x480 with 1 Axes>"
      ]
     },
     "metadata": {},
     "output_type": "display_data"
    },
    {
     "data": {
      "text/plain": [
       "array([ 1.,  6.,  2., 15.,  4.,  7.,  3.,  9., nan, 11.,  5., 12., 10.,\n",
       "        8., 13., 14., 16.])"
      ]
     },
     "metadata": {},
     "output_type": "display_data"
    },
    {
     "data": {
      "text/plain": [
       "<Figure size 640x480 with 0 Axes>"
      ]
     },
     "metadata": {},
     "output_type": "display_data"
    },
    {
     "data": {
      "image/png": "[encoded data removed]",
      "text/plain": [
       "<Figure size 640x480 with 1 Axes>"
      ]
     },
     "metadata": {},
     "output_type": "display_data"
    },
    {
     "data": {
      "text/plain": [
       "array([ 5.,  0.,  3.,  7.,  2.,  1.,  8.,  6.,  4., 15.,  9., 11., 10.,\n",
       "       nan, 13., 12., 17., 16., 14., 30., 46., 18., 31.])"
      ]
     },
     "metadata": {},
     "output_type": "display_data"
    },
    {
     "data": {
      "text/plain": [
       "<Figure size 640x480 with 0 Axes>"
      ]
     },
     "metadata": {},
     "output_type": "display_data"
    },
    {
     "data": {
      "image/png": "[encoded data removed]",
      "text/plain": [
       "<Figure size 640x480 with 1 Axes>"
      ]
     },
     "metadata": {},
     "output_type": "display_data"
    },
    {
     "data": {
      "text/plain": [
       "array([160, 121, 120, 134, 130, 139, 123, 127, 295, 154, 196, 129, 157,\n",
       "       161, 150, 162, 203, 117, 146, 207, 142, 173, 190, 143, 133, 209,\n",
       "       122, 194, 126, 299, 125, 187, 131, 111, 205, 137, 145, 128, 290,\n",
       "       287, 195, 237, 300, 159, 268, 136, 144, 153, 166, 163, 168, 138,\n",
       "       167, 176, 149, 204, 185, 200, 225, 236, 189, 222, 206,   0, 179,\n",
       "       188, 124, 132, 292, 261, 291, 164, 165, 169, 294, 135, 152, 269,\n",
       "       156, 140, 235, 218, 220, 276, 147, 158, 114, 180, 155, 260, 112,\n",
       "       221, 148, 219, 271, 240, 175, 151, 293, 283, 215, 171, 183, 181,\n",
       "       197, 267, 243, 232, 184, 266, 296, 280, 241, 270, 279, 191, 198,\n",
       "       141, 174, 262, 216, 119, 282, 254, 177, 110, 113, 186, 212, 248,\n",
       "       217, 238, 211, 284, 116, 272, 228, 202, 263, 208, 249, 178, 274,\n",
       "       214, 210, 227, 298, 233, 277, 234, 275, 231, 182, 286, 278, 297,\n",
       "       288, 281, 199, 273, 247, 193, 264, 192, 201, 244, 252, 170, 229,\n",
       "       230, 258, 115,  12, 118, 289, 239,  56, 320, 324, 315, 312, 325,\n",
       "       250,  25, 213, 317, 316, 319, 245, 301, 172, 285, 246, 265, 318,\n",
       "       308, 257, 321, 305, 304, 223, 307, 242, 309, 253, 323, 302, 259,\n",
       "       256, 311, 303, 322, 313, 306, 224, 226, 255,  37, 314,  81])"
      ]
     },
     "metadata": {},
     "output_type": "display_data"
    }
   ],
   "source": [
    "data = explore_data(data)"
   ]
  },
  {
   "cell_type": "markdown",
   "id": "d68f12d4",
   "metadata": {},
   "source": [
    "1) A few columns contain NaN values - let's fix them and then explore the data deeper.\n",
    "\n",
    "2) Also, it seems like we can change the data type in some of the columns.\n"
   ]
  },
  {
   "cell_type": "markdown",
   "id": "bc85b09c",
   "metadata": {},
   "source": [
    "<h3>1.3 Dealing with NaN values and data types</h3>"
   ]
  },
  {
   "cell_type": "markdown",
   "id": "263c49cd",
   "metadata": {},
   "source": [
    "<h4>1.3.1 Numerical columns</h4>\n"
   ]
  },
  {
   "cell_type": "code",
   "execution_count": 7,
   "id": "dd8a83a1",
   "metadata": {},
   "outputs": [],
   "source": [
    "# Function for NaN-values checking\n",
    "\n",
    "def nan_values_checking(data):\n",
    "    \n",
    "    columns_with_nan_values = data.isna().sum().reset_index()\n",
    "    columns_with_nan_values = columns_with_nan_values.rename(columns={\"index\": \"column\", 0: \"nan_values\"})\n",
    "    columns_with_nan_values = columns_with_nan_values[columns_with_nan_values['nan_values'] > 0]\n",
    "    columns_with_nan_values.head()\n",
    "    \n",
    "    for column in columns_with_nan_values['column']:\n",
    "        display(column)\n",
    "        display(data[column].isna().sum())\n",
    "        display(data[column].unique())\n",
    "        plt.figure()\n",
    "        fig,ax = plt.subplots()\n",
    "        ax.set_title(column)\n",
    "        plt.hist(data[column], bins=20)\n",
    "        plt.show()"
   ]
  },
  {
   "cell_type": "code",
   "execution_count": 8,
   "id": "bbec3951",
   "metadata": {},
   "outputs": [
    {
     "data": {
      "text/plain": [
       "'tenure'"
      ]
     },
     "metadata": {},
     "output_type": "display_data"
    },
    {
     "data": {
      "text/plain": [
       "264"
      ]
     },
     "metadata": {},
     "output_type": "display_data"
    },
    {
     "data": {
      "text/plain": [
       "array([ 4., nan,  0., 13., 11.,  9., 19., 20., 14.,  8., 18.,  5.,  2.,\n",
       "       30.,  1., 23.,  3., 29.,  6., 26., 28.,  7., 24., 25., 10., 15.,\n",
       "       22., 27., 16., 12., 21., 17., 50., 60., 31., 51., 61.])"
      ]
     },
     "metadata": {},
     "output_type": "display_data"
    },
    {
     "data": {
      "text/plain": [
       "<Figure size 640x480 with 0 Axes>"
      ]
     },
     "metadata": {},
     "output_type": "display_data"
    },
    {
     "data": {
      "image/png": "[encoded data removed]",
      "text/plain": [
       "<Figure size 640x480 with 1 Axes>"
      ]
     },
     "metadata": {},
     "output_type": "display_data"
    },
    {
     "data": {
      "text/plain": [
       "'warehouse_to_home'"
      ]
     },
     "metadata": {},
     "output_type": "display_data"
    },
    {
     "data": {
      "text/plain": [
       "251"
      ]
     },
     "metadata": {},
     "output_type": "display_data"
    },
    {
     "data": {
      "text/plain": [
       "array([  6.,   8.,  30.,  15.,  12.,  22.,  11.,   9.,  31.,  18.,  13.,\n",
       "        20.,  29.,  28.,  26.,  14.,  nan,  10.,  27.,  17.,  23.,  33.,\n",
       "        19.,  35.,  24.,  16.,  25.,  32.,  34.,   5.,  21., 126.,   7.,\n",
       "        36., 127.])"
      ]
     },
     "metadata": {},
     "output_type": "display_data"
    },
    {
     "data": {
      "text/plain": [
       "<Figure size 640x480 with 0 Axes>"
      ]
     },
     "metadata": {},
     "output_type": "display_data"
    },
    {
     "data": {
      "image/png": "[encoded data removed]",
      "text/plain": [
       "<Figure size 640x480 with 1 Axes>"
      ]
     },
     "metadata": {},
     "output_type": "display_data"
    },
    {
     "data": {
      "text/plain": [
       "'hour_spend_on_app'"
      ]
     },
     "metadata": {},
     "output_type": "display_data"
    },
    {
     "data": {
      "text/plain": [
       "255"
      ]
     },
     "metadata": {},
     "output_type": "display_data"
    },
    {
     "data": {
      "text/plain": [
       "array([ 3.,  2., nan,  1.,  0.,  4.,  5.])"
      ]
     },
     "metadata": {},
     "output_type": "display_data"
    },
    {
     "data": {
      "text/plain": [
       "<Figure size 640x480 with 0 Axes>"
      ]
     },
     "metadata": {},
     "output_type": "display_data"
    },
    {
     "data": {
      "image/png": "[encoded data removed]",
      "text/plain": [
       "<Figure size 640x480 with 1 Axes>"
      ]
     },
     "metadata": {},
     "output_type": "display_data"
    },
    {
     "data": {
      "text/plain": [
       "'order_amount_hike_from_last_year'"
      ]
     },
     "metadata": {},
     "output_type": "display_data"
    },
    {
     "data": {
      "text/plain": [
       "265"
      ]
     },
     "metadata": {},
     "output_type": "display_data"
    },
    {
     "data": {
      "text/plain": [
       "array([11., 15., 14., 23., 22., 16., 12., nan, 13., 17., 18., 24., 19.,\n",
       "       20., 21., 25., 26.])"
      ]
     },
     "metadata": {},
     "output_type": "display_data"
    },
    {
     "data": {
      "text/plain": [
       "<Figure size 640x480 with 0 Axes>"
      ]
     },
     "metadata": {},
     "output_type": "display_data"
    },
    {
     "data": {
      "image/png": "[encoded data removed]",
      "text/plain": [
       "<Figure size 640x480 with 1 Axes>"
      ]
     },
     "metadata": {},
     "output_type": "display_data"
    },
    {
     "data": {
      "text/plain": [
       "'coupon_used'"
      ]
     },
     "metadata": {},
     "output_type": "display_data"
    },
    {
     "data": {
      "text/plain": [
       "256"
      ]
     },
     "metadata": {},
     "output_type": "display_data"
    },
    {
     "data": {
      "text/plain": [
       "array([ 1.,  0.,  4.,  2.,  9.,  6., 11., nan,  7., 12., 10.,  5.,  3.,\n",
       "       13., 15.,  8., 14., 16.])"
      ]
     },
     "metadata": {},
     "output_type": "display_data"
    },
    {
     "data": {
      "text/plain": [
       "<Figure size 640x480 with 0 Axes>"
      ]
     },
     "metadata": {},
     "output_type": "display_data"
    },
    {
     "data": {
      "image/png": "[encoded data removed]",
      "text/plain": [
       "<Figure size 640x480 with 1 Axes>"
      ]
     },
     "metadata": {},
     "output_type": "display_data"
    },
    {
     "data": {
      "text/plain": [
       "'order_count'"
      ]
     },
     "metadata": {},
     "output_type": "display_data"
    },
    {
     "data": {
      "text/plain": [
       "258"
      ]
     },
     "metadata": {},
     "output_type": "display_data"
    },
    {
     "data": {
      "text/plain": [
       "array([ 1.,  6.,  2., 15.,  4.,  7.,  3.,  9., nan, 11.,  5., 12., 10.,\n",
       "        8., 13., 14., 16.])"
      ]
     },
     "metadata": {},
     "output_type": "display_data"
    },
    {
     "data": {
      "text/plain": [
       "<Figure size 640x480 with 0 Axes>"
      ]
     },
     "metadata": {},
     "output_type": "display_data"
    },
    {
     "data": {
      "image/png": "[encoded data removed]",
      "text/plain": [
       "<Figure size 640x480 with 1 Axes>"
      ]
     },
     "metadata": {},
     "output_type": "display_data"
    },
    {
     "data": {
      "text/plain": [
       "'day_since_last_order'"
      ]
     },
     "metadata": {},
     "output_type": "display_data"
    },
    {
     "data": {
      "text/plain": [
       "307"
      ]
     },
     "metadata": {},
     "output_type": "display_data"
    },
    {
     "data": {
      "text/plain": [
       "array([ 5.,  0.,  3.,  7.,  2.,  1.,  8.,  6.,  4., 15.,  9., 11., 10.,\n",
       "       nan, 13., 12., 17., 16., 14., 30., 46., 18., 31.])"
      ]
     },
     "metadata": {},
     "output_type": "display_data"
    },
    {
     "data": {
      "text/plain": [
       "<Figure size 640x480 with 0 Axes>"
      ]
     },
     "metadata": {},
     "output_type": "display_data"
    },
    {
     "data": {
      "image/png": "[encoded data removed]",
      "text/plain": [
       "<Figure size 640x480 with 1 Axes>"
      ]
     },
     "metadata": {},
     "output_type": "display_data"
    }
   ],
   "source": [
    "nan_values_checking(data)"
   ]
  },
  {
   "cell_type": "markdown",
   "id": "9079dce2",
   "metadata": {},
   "source": [
    "As we can see - all NaN values in this dataset are in numerical coluns. We can replace all NaN values in these columns with the mean values, but we need to round them to the nearest whole number for it to make sense.\n",
    "\n",
    "Also, it seems like all the float values in the columns are whole numbers, so we can change their data type to integer."
   ]
  },
  {
   "cell_type": "code",
   "execution_count": 9,
   "id": "fd795c88",
   "metadata": {},
   "outputs": [],
   "source": [
    "# Function for NaN-values filling (numerical columns)\n",
    "\n",
    "def nan_values_filling_num(data):\n",
    "    nan_values_filling_num = data.copy()\n",
    "\n",
    "# Filling all missing values of all numeric columns with their mean value and rounding to the nearest whole number\n",
    "    \n",
    "    for col in nan_values_filling_num.select_dtypes(include=np.number).columns:\n",
    "        nan_values_filling_num[col] = nan_values_filling_num[col].fillna(round(np.mean(nan_values_filling_num[col])))\n",
    "        \n",
    "    return nan_values_filling_num"
   ]
  },
  {
   "cell_type": "code",
   "execution_count": 10,
   "id": "7b17160c",
   "metadata": {},
   "outputs": [],
   "source": [
    "data = nan_values_filling_num(data)"
   ]
  },
  {
   "cell_type": "code",
   "execution_count": 11,
   "id": "1f4621f9",
   "metadata": {},
   "outputs": [],
   "source": [
    "nan_values_checking(data)\n",
    "\n",
    "# this function doesn't give us any result, because we filled all Nan values"
   ]
  },
  {
   "cell_type": "code",
   "execution_count": 12,
   "id": "0d335dab",
   "metadata": {},
   "outputs": [],
   "source": [
    "# Function for changing data type of all the columns in the dataset from float to integer\n",
    "\n",
    "def float_to_int(data):\n",
    "    float_to_int_data = data.copy()\n",
    "    \n",
    "    float_to_int_data[float_to_int_data.select_dtypes(include=['float64']).columns] = float_to_int_data[float_to_int_data.select_dtypes(include=['float64']).columns].astype(int)\n",
    "    \n",
    "    return float_to_int_data"
   ]
  },
  {
   "cell_type": "code",
   "execution_count": 13,
   "id": "07470f87",
   "metadata": {},
   "outputs": [],
   "source": [
    "data = float_to_int(data)"
   ]
  },
  {
   "cell_type": "markdown",
   "id": "6fa7ac78",
   "metadata": {},
   "source": [
    "<h4>1.3.1 Categorical columns</h4>"
   ]
  },
  {
   "cell_type": "markdown",
   "id": "cb5ead9f",
   "metadata": {},
   "source": [
    "Let's explore categorical columns of this dataset."
   ]
  },
  {
   "cell_type": "code",
   "execution_count": 14,
   "id": "4172e203",
   "metadata": {},
   "outputs": [
    {
     "data": {
      "text/html": [
       "<div>\n",
       "<style scoped>\n",
       "    .dataframe tbody tr th:only-of-type {\n",
       "        vertical-align: middle;\n",
       "    }\n",
       "\n",
       "    .dataframe tbody tr th {\n",
       "        vertical-align: top;\n",
       "    }\n",
       "\n",
       "    .dataframe thead th {\n",
       "        text-align: right;\n",
       "    }\n",
       "</style>\n",
       "<table border=\"1\" class=\"dataframe\">\n",
       "  <thead>\n",
       "    <tr style=\"text-align: right;\">\n",
       "      <th></th>\n",
       "      <th>preferred_login_device</th>\n",
       "      <th>preferred_payment_mode</th>\n",
       "      <th>gender</th>\n",
       "      <th>preferred_order_category</th>\n",
       "      <th>marital_status</th>\n",
       "    </tr>\n",
       "  </thead>\n",
       "  <tbody>\n",
       "    <tr>\n",
       "      <th>0</th>\n",
       "      <td>Mobile Phone</td>\n",
       "      <td>Debit Card</td>\n",
       "      <td>Female</td>\n",
       "      <td>Laptop &amp; Accessory</td>\n",
       "      <td>Single</td>\n",
       "    </tr>\n",
       "    <tr>\n",
       "      <th>1</th>\n",
       "      <td>Phone</td>\n",
       "      <td>UPI</td>\n",
       "      <td>Male</td>\n",
       "      <td>Mobile</td>\n",
       "      <td>Single</td>\n",
       "    </tr>\n",
       "    <tr>\n",
       "      <th>2</th>\n",
       "      <td>Phone</td>\n",
       "      <td>Debit Card</td>\n",
       "      <td>Male</td>\n",
       "      <td>Mobile</td>\n",
       "      <td>Single</td>\n",
       "    </tr>\n",
       "    <tr>\n",
       "      <th>3</th>\n",
       "      <td>Phone</td>\n",
       "      <td>Debit Card</td>\n",
       "      <td>Male</td>\n",
       "      <td>Laptop &amp; Accessory</td>\n",
       "      <td>Single</td>\n",
       "    </tr>\n",
       "    <tr>\n",
       "      <th>4</th>\n",
       "      <td>Phone</td>\n",
       "      <td>CC</td>\n",
       "      <td>Male</td>\n",
       "      <td>Mobile</td>\n",
       "      <td>Single</td>\n",
       "    </tr>\n",
       "  </tbody>\n",
       "</table>\n",
       "</div>"
      ],
      "text/plain": [
       "  preferred_login_device preferred_payment_mode  gender  \\\n",
       "0           Mobile Phone             Debit Card  Female   \n",
       "1                  Phone                    UPI    Male   \n",
       "2                  Phone             Debit Card    Male   \n",
       "3                  Phone             Debit Card    Male   \n",
       "4                  Phone                     CC    Male   \n",
       "\n",
       "  preferred_order_category marital_status  \n",
       "0       Laptop & Accessory         Single  \n",
       "1                   Mobile         Single  \n",
       "2                   Mobile         Single  \n",
       "3       Laptop & Accessory         Single  \n",
       "4                   Mobile         Single  "
      ]
     },
     "execution_count": 14,
     "metadata": {},
     "output_type": "execute_result"
    }
   ],
   "source": [
    "categorical = data.select_dtypes(object)\n",
    "categorical.head()"
   ]
  },
  {
   "cell_type": "code",
   "execution_count": 15,
   "id": "af62f07e",
   "metadata": {},
   "outputs": [],
   "source": [
    "# Function for data exploration (categorical columns)\n",
    "\n",
    "def explore_data_cat(data):\n",
    "\n",
    "    categorical = data.select_dtypes(object)\n",
    "    display(categorical.head())\n",
    "\n",
    "    # Using Matplotlib to construct histograms for all categorical columns\n",
    "    plt.style.context('ggplot')    \n",
    "    for column_name in categorical.columns:\n",
    "        plt.figure()\n",
    "        fig,ax = plt.subplots()\n",
    "        ax.set_title(column_name)\n",
    "        plt.hist(categorical[column_name], bins=20)\n",
    "        plt.xticks(rotation = 90)\n",
    "        plt.show()\n",
    "        display(categorical[column_name].unique())\n",
    "    \n",
    "    return data"
   ]
  },
  {
   "cell_type": "code",
   "execution_count": 16,
   "id": "db4bd53f",
   "metadata": {},
   "outputs": [
    {
     "data": {
      "text/html": [
       "<div>\n",
       "<style scoped>\n",
       "    .dataframe tbody tr th:only-of-type {\n",
       "        vertical-align: middle;\n",
       "    }\n",
       "\n",
       "    .dataframe tbody tr th {\n",
       "        vertical-align: top;\n",
       "    }\n",
       "\n",
       "    .dataframe thead th {\n",
       "        text-align: right;\n",
       "    }\n",
       "</style>\n",
       "<table border=\"1\" class=\"dataframe\">\n",
       "  <thead>\n",
       "    <tr style=\"text-align: right;\">\n",
       "      <th></th>\n",
       "      <th>preferred_login_device</th>\n",
       "      <th>preferred_payment_mode</th>\n",
       "      <th>gender</th>\n",
       "      <th>preferred_order_category</th>\n",
       "      <th>marital_status</th>\n",
       "    </tr>\n",
       "  </thead>\n",
       "  <tbody>\n",
       "    <tr>\n",
       "      <th>0</th>\n",
       "      <td>Mobile Phone</td>\n",
       "      <td>Debit Card</td>\n",
       "      <td>Female</td>\n",
       "      <td>Laptop &amp; Accessory</td>\n",
       "      <td>Single</td>\n",
       "    </tr>\n",
       "    <tr>\n",
       "      <th>1</th>\n",
       "      <td>Phone</td>\n",
       "      <td>UPI</td>\n",
       "      <td>Male</td>\n",
       "      <td>Mobile</td>\n",
       "      <td>Single</td>\n",
       "    </tr>\n",
       "    <tr>\n",
       "      <th>2</th>\n",
       "      <td>Phone</td>\n",
       "      <td>Debit Card</td>\n",
       "      <td>Male</td>\n",
       "      <td>Mobile</td>\n",
       "      <td>Single</td>\n",
       "    </tr>\n",
       "    <tr>\n",
       "      <th>3</th>\n",
       "      <td>Phone</td>\n",
       "      <td>Debit Card</td>\n",
       "      <td>Male</td>\n",
       "      <td>Laptop &amp; Accessory</td>\n",
       "      <td>Single</td>\n",
       "    </tr>\n",
       "    <tr>\n",
       "      <th>4</th>\n",
       "      <td>Phone</td>\n",
       "      <td>CC</td>\n",
       "      <td>Male</td>\n",
       "      <td>Mobile</td>\n",
       "      <td>Single</td>\n",
       "    </tr>\n",
       "  </tbody>\n",
       "</table>\n",
       "</div>"
      ],
      "text/plain": [
       "  preferred_login_device preferred_payment_mode  gender  \\\n",
       "0           Mobile Phone             Debit Card  Female   \n",
       "1                  Phone                    UPI    Male   \n",
       "2                  Phone             Debit Card    Male   \n",
       "3                  Phone             Debit Card    Male   \n",
       "4                  Phone                     CC    Male   \n",
       "\n",
       "  preferred_order_category marital_status  \n",
       "0       Laptop & Accessory         Single  \n",
       "1                   Mobile         Single  \n",
       "2                   Mobile         Single  \n",
       "3       Laptop & Accessory         Single  \n",
       "4                   Mobile         Single  "
      ]
     },
     "metadata": {},
     "output_type": "display_data"
    },
    {
     "data": {
      "text/plain": [
       "<Figure size 640x480 with 0 Axes>"
      ]
     },
     "metadata": {},
     "output_type": "display_data"
    },
    {
     "data": {
      "image/png": "[encoded data removed]",
      "text/plain": [
       "<Figure size 640x480 with 1 Axes>"
      ]
     },
     "metadata": {},
     "output_type": "display_data"
    },
    {
     "data": {
      "text/plain": [
       "array(['Mobile Phone', 'Phone', 'Computer'], dtype=object)"
      ]
     },
     "metadata": {},
     "output_type": "display_data"
    },
    {
     "data": {
      "text/plain": [
       "<Figure size 640x480 with 0 Axes>"
      ]
     },
     "metadata": {},
     "output_type": "display_data"
    },
    {
     "data": {
      "image/png": "[encoded data removed]",
      "text/plain": [
       "<Figure size 640x480 with 1 Axes>"
      ]
     },
     "metadata": {},
     "output_type": "display_data"
    },
    {
     "data": {
      "text/plain": [
       "array(['Debit Card', 'UPI', 'CC', 'Cash on Delivery', 'E wallet', 'COD',\n",
       "       'Credit Card'], dtype=object)"
      ]
     },
     "metadata": {},
     "output_type": "display_data"
    },
    {
     "data": {
      "text/plain": [
       "<Figure size 640x480 with 0 Axes>"
      ]
     },
     "metadata": {},
     "output_type": "display_data"
    },
    {
     "data": {
      "image/png": "[encoded data removed]",
      "text/plain": [
       "<Figure size 640x480 with 1 Axes>"
      ]
     },
     "metadata": {},
     "output_type": "display_data"
    },
    {
     "data": {
      "text/plain": [
       "array(['Female', 'Male'], dtype=object)"
      ]
     },
     "metadata": {},
     "output_type": "display_data"
    },
    {
     "data": {
      "text/plain": [
       "<Figure size 640x480 with 0 Axes>"
      ]
     },
     "metadata": {},
     "output_type": "display_data"
    },
    {
     "data": {
      "image/png": "[encoded data removed]",
      "text/plain": [
       "<Figure size 640x480 with 1 Axes>"
      ]
     },
     "metadata": {},
     "output_type": "display_data"
    },
    {
     "data": {
      "text/plain": [
       "array(['Laptop & Accessory', 'Mobile', 'Mobile Phone', 'Others',\n",
       "       'Fashion', 'Grocery'], dtype=object)"
      ]
     },
     "metadata": {},
     "output_type": "display_data"
    },
    {
     "data": {
      "text/plain": [
       "<Figure size 640x480 with 0 Axes>"
      ]
     },
     "metadata": {},
     "output_type": "display_data"
    },
    {
     "data": {
      "image/png": "[encoded data removed]",
      "text/plain": [
       "<Figure size 640x480 with 1 Axes>"
      ]
     },
     "metadata": {},
     "output_type": "display_data"
    },
    {
     "data": {
      "text/plain": [
       "array(['Single', 'Divorced', 'Married'], dtype=object)"
      ]
     },
     "metadata": {},
     "output_type": "display_data"
    },
    {
     "data": {
      "text/html": [
       "<div>\n",
       "<style scoped>\n",
       "    .dataframe tbody tr th:only-of-type {\n",
       "        vertical-align: middle;\n",
       "    }\n",
       "\n",
       "    .dataframe tbody tr th {\n",
       "        vertical-align: top;\n",
       "    }\n",
       "\n",
       "    .dataframe thead th {\n",
       "        text-align: right;\n",
       "    }\n",
       "</style>\n",
       "<table border=\"1\" class=\"dataframe\">\n",
       "  <thead>\n",
       "    <tr style=\"text-align: right;\">\n",
       "      <th></th>\n",
       "      <th>customer_id</th>\n",
       "      <th>churn</th>\n",
       "      <th>tenure</th>\n",
       "      <th>preferred_login_device</th>\n",
       "      <th>city_tier</th>\n",
       "      <th>warehouse_to_home</th>\n",
       "      <th>preferred_payment_mode</th>\n",
       "      <th>gender</th>\n",
       "      <th>hour_spend_on_app</th>\n",
       "      <th>number_of_device_registered</th>\n",
       "      <th>preferred_order_category</th>\n",
       "      <th>satisfaction_score</th>\n",
       "      <th>marital_status</th>\n",
       "      <th>number_of_address</th>\n",
       "      <th>complain</th>\n",
       "      <th>order_amount_hike_from_last_year</th>\n",
       "      <th>coupon_used</th>\n",
       "      <th>order_count</th>\n",
       "      <th>day_since_last_order</th>\n",
       "      <th>cashback_amount</th>\n",
       "    </tr>\n",
       "  </thead>\n",
       "  <tbody>\n",
       "    <tr>\n",
       "      <th>0</th>\n",
       "      <td>50001</td>\n",
       "      <td>1</td>\n",
       "      <td>4</td>\n",
       "      <td>Mobile Phone</td>\n",
       "      <td>3</td>\n",
       "      <td>6</td>\n",
       "      <td>Debit Card</td>\n",
       "      <td>Female</td>\n",
       "      <td>3</td>\n",
       "      <td>3</td>\n",
       "      <td>Laptop &amp; Accessory</td>\n",
       "      <td>2</td>\n",
       "      <td>Single</td>\n",
       "      <td>9</td>\n",
       "      <td>1</td>\n",
       "      <td>11</td>\n",
       "      <td>1</td>\n",
       "      <td>1</td>\n",
       "      <td>5</td>\n",
       "      <td>160</td>\n",
       "    </tr>\n",
       "    <tr>\n",
       "      <th>1</th>\n",
       "      <td>50002</td>\n",
       "      <td>1</td>\n",
       "      <td>10</td>\n",
       "      <td>Phone</td>\n",
       "      <td>1</td>\n",
       "      <td>8</td>\n",
       "      <td>UPI</td>\n",
       "      <td>Male</td>\n",
       "      <td>3</td>\n",
       "      <td>4</td>\n",
       "      <td>Mobile</td>\n",
       "      <td>3</td>\n",
       "      <td>Single</td>\n",
       "      <td>7</td>\n",
       "      <td>1</td>\n",
       "      <td>15</td>\n",
       "      <td>0</td>\n",
       "      <td>1</td>\n",
       "      <td>0</td>\n",
       "      <td>121</td>\n",
       "    </tr>\n",
       "    <tr>\n",
       "      <th>2</th>\n",
       "      <td>50003</td>\n",
       "      <td>1</td>\n",
       "      <td>10</td>\n",
       "      <td>Phone</td>\n",
       "      <td>1</td>\n",
       "      <td>30</td>\n",
       "      <td>Debit Card</td>\n",
       "      <td>Male</td>\n",
       "      <td>2</td>\n",
       "      <td>4</td>\n",
       "      <td>Mobile</td>\n",
       "      <td>3</td>\n",
       "      <td>Single</td>\n",
       "      <td>6</td>\n",
       "      <td>1</td>\n",
       "      <td>14</td>\n",
       "      <td>0</td>\n",
       "      <td>1</td>\n",
       "      <td>3</td>\n",
       "      <td>120</td>\n",
       "    </tr>\n",
       "    <tr>\n",
       "      <th>3</th>\n",
       "      <td>50004</td>\n",
       "      <td>1</td>\n",
       "      <td>0</td>\n",
       "      <td>Phone</td>\n",
       "      <td>3</td>\n",
       "      <td>15</td>\n",
       "      <td>Debit Card</td>\n",
       "      <td>Male</td>\n",
       "      <td>2</td>\n",
       "      <td>4</td>\n",
       "      <td>Laptop &amp; Accessory</td>\n",
       "      <td>5</td>\n",
       "      <td>Single</td>\n",
       "      <td>8</td>\n",
       "      <td>0</td>\n",
       "      <td>23</td>\n",
       "      <td>0</td>\n",
       "      <td>1</td>\n",
       "      <td>3</td>\n",
       "      <td>134</td>\n",
       "    </tr>\n",
       "    <tr>\n",
       "      <th>4</th>\n",
       "      <td>50005</td>\n",
       "      <td>1</td>\n",
       "      <td>0</td>\n",
       "      <td>Phone</td>\n",
       "      <td>1</td>\n",
       "      <td>12</td>\n",
       "      <td>CC</td>\n",
       "      <td>Male</td>\n",
       "      <td>3</td>\n",
       "      <td>3</td>\n",
       "      <td>Mobile</td>\n",
       "      <td>5</td>\n",
       "      <td>Single</td>\n",
       "      <td>3</td>\n",
       "      <td>0</td>\n",
       "      <td>11</td>\n",
       "      <td>1</td>\n",
       "      <td>1</td>\n",
       "      <td>3</td>\n",
       "      <td>130</td>\n",
       "    </tr>\n",
       "    <tr>\n",
       "      <th>...</th>\n",
       "      <td>...</td>\n",
       "      <td>...</td>\n",
       "      <td>...</td>\n",
       "      <td>...</td>\n",
       "      <td>...</td>\n",
       "      <td>...</td>\n",
       "      <td>...</td>\n",
       "      <td>...</td>\n",
       "      <td>...</td>\n",
       "      <td>...</td>\n",
       "      <td>...</td>\n",
       "      <td>...</td>\n",
       "      <td>...</td>\n",
       "      <td>...</td>\n",
       "      <td>...</td>\n",
       "      <td>...</td>\n",
       "      <td>...</td>\n",
       "      <td>...</td>\n",
       "      <td>...</td>\n",
       "      <td>...</td>\n",
       "    </tr>\n",
       "    <tr>\n",
       "      <th>5625</th>\n",
       "      <td>55626</td>\n",
       "      <td>0</td>\n",
       "      <td>10</td>\n",
       "      <td>Computer</td>\n",
       "      <td>1</td>\n",
       "      <td>30</td>\n",
       "      <td>Credit Card</td>\n",
       "      <td>Male</td>\n",
       "      <td>3</td>\n",
       "      <td>2</td>\n",
       "      <td>Laptop &amp; Accessory</td>\n",
       "      <td>1</td>\n",
       "      <td>Married</td>\n",
       "      <td>6</td>\n",
       "      <td>0</td>\n",
       "      <td>18</td>\n",
       "      <td>1</td>\n",
       "      <td>2</td>\n",
       "      <td>4</td>\n",
       "      <td>151</td>\n",
       "    </tr>\n",
       "    <tr>\n",
       "      <th>5626</th>\n",
       "      <td>55627</td>\n",
       "      <td>0</td>\n",
       "      <td>13</td>\n",
       "      <td>Mobile Phone</td>\n",
       "      <td>1</td>\n",
       "      <td>13</td>\n",
       "      <td>Credit Card</td>\n",
       "      <td>Male</td>\n",
       "      <td>3</td>\n",
       "      <td>5</td>\n",
       "      <td>Fashion</td>\n",
       "      <td>5</td>\n",
       "      <td>Married</td>\n",
       "      <td>6</td>\n",
       "      <td>0</td>\n",
       "      <td>16</td>\n",
       "      <td>1</td>\n",
       "      <td>2</td>\n",
       "      <td>5</td>\n",
       "      <td>225</td>\n",
       "    </tr>\n",
       "    <tr>\n",
       "      <th>5627</th>\n",
       "      <td>55628</td>\n",
       "      <td>0</td>\n",
       "      <td>1</td>\n",
       "      <td>Mobile Phone</td>\n",
       "      <td>1</td>\n",
       "      <td>11</td>\n",
       "      <td>Debit Card</td>\n",
       "      <td>Male</td>\n",
       "      <td>3</td>\n",
       "      <td>2</td>\n",
       "      <td>Laptop &amp; Accessory</td>\n",
       "      <td>4</td>\n",
       "      <td>Married</td>\n",
       "      <td>3</td>\n",
       "      <td>1</td>\n",
       "      <td>21</td>\n",
       "      <td>1</td>\n",
       "      <td>2</td>\n",
       "      <td>4</td>\n",
       "      <td>186</td>\n",
       "    </tr>\n",
       "    <tr>\n",
       "      <th>5628</th>\n",
       "      <td>55629</td>\n",
       "      <td>0</td>\n",
       "      <td>23</td>\n",
       "      <td>Computer</td>\n",
       "      <td>3</td>\n",
       "      <td>9</td>\n",
       "      <td>Credit Card</td>\n",
       "      <td>Male</td>\n",
       "      <td>4</td>\n",
       "      <td>5</td>\n",
       "      <td>Laptop &amp; Accessory</td>\n",
       "      <td>4</td>\n",
       "      <td>Married</td>\n",
       "      <td>4</td>\n",
       "      <td>0</td>\n",
       "      <td>15</td>\n",
       "      <td>2</td>\n",
       "      <td>2</td>\n",
       "      <td>9</td>\n",
       "      <td>179</td>\n",
       "    </tr>\n",
       "    <tr>\n",
       "      <th>5629</th>\n",
       "      <td>55630</td>\n",
       "      <td>0</td>\n",
       "      <td>8</td>\n",
       "      <td>Mobile Phone</td>\n",
       "      <td>1</td>\n",
       "      <td>15</td>\n",
       "      <td>Credit Card</td>\n",
       "      <td>Male</td>\n",
       "      <td>3</td>\n",
       "      <td>2</td>\n",
       "      <td>Laptop &amp; Accessory</td>\n",
       "      <td>3</td>\n",
       "      <td>Married</td>\n",
       "      <td>4</td>\n",
       "      <td>0</td>\n",
       "      <td>13</td>\n",
       "      <td>2</td>\n",
       "      <td>2</td>\n",
       "      <td>3</td>\n",
       "      <td>169</td>\n",
       "    </tr>\n",
       "  </tbody>\n",
       "</table>\n",
       "<p>5630 rows × 20 columns</p>\n",
       "</div>"
      ],
      "text/plain": [
       "      customer_id  churn  tenure preferred_login_device  city_tier  \\\n",
       "0           50001      1       4           Mobile Phone          3   \n",
       "1           50002      1      10                  Phone          1   \n",
       "2           50003      1      10                  Phone          1   \n",
       "3           50004      1       0                  Phone          3   \n",
       "4           50005      1       0                  Phone          1   \n",
       "...           ...    ...     ...                    ...        ...   \n",
       "5625        55626      0      10               Computer          1   \n",
       "5626        55627      0      13           Mobile Phone          1   \n",
       "5627        55628      0       1           Mobile Phone          1   \n",
       "5628        55629      0      23               Computer          3   \n",
       "5629        55630      0       8           Mobile Phone          1   \n",
       "\n",
       "      warehouse_to_home preferred_payment_mode  gender  hour_spend_on_app  \\\n",
       "0                     6             Debit Card  Female                  3   \n",
       "1                     8                    UPI    Male                  3   \n",
       "2                    30             Debit Card    Male                  2   \n",
       "3                    15             Debit Card    Male                  2   \n",
       "4                    12                     CC    Male                  3   \n",
       "...                 ...                    ...     ...                ...   \n",
       "5625                 30            Credit Card    Male                  3   \n",
       "5626                 13            Credit Card    Male                  3   \n",
       "5627                 11             Debit Card    Male                  3   \n",
       "5628                  9            Credit Card    Male                  4   \n",
       "5629                 15            Credit Card    Male                  3   \n",
       "\n",
       "      number_of_device_registered preferred_order_category  \\\n",
       "0                               3       Laptop & Accessory   \n",
       "1                               4                   Mobile   \n",
       "2                               4                   Mobile   \n",
       "3                               4       Laptop & Accessory   \n",
       "4                               3                   Mobile   \n",
       "...                           ...                      ...   \n",
       "5625                            2       Laptop & Accessory   \n",
       "5626                            5                  Fashion   \n",
       "5627                            2       Laptop & Accessory   \n",
       "5628                            5       Laptop & Accessory   \n",
       "5629                            2       Laptop & Accessory   \n",
       "\n",
       "      satisfaction_score marital_status  number_of_address  complain  \\\n",
       "0                      2         Single                  9         1   \n",
       "1                      3         Single                  7         1   \n",
       "2                      3         Single                  6         1   \n",
       "3                      5         Single                  8         0   \n",
       "4                      5         Single                  3         0   \n",
       "...                  ...            ...                ...       ...   \n",
       "5625                   1        Married                  6         0   \n",
       "5626                   5        Married                  6         0   \n",
       "5627                   4        Married                  3         1   \n",
       "5628                   4        Married                  4         0   \n",
       "5629                   3        Married                  4         0   \n",
       "\n",
       "      order_amount_hike_from_last_year  coupon_used  order_count  \\\n",
       "0                                   11            1            1   \n",
       "1                                   15            0            1   \n",
       "2                                   14            0            1   \n",
       "3                                   23            0            1   \n",
       "4                                   11            1            1   \n",
       "...                                ...          ...          ...   \n",
       "5625                                18            1            2   \n",
       "5626                                16            1            2   \n",
       "5627                                21            1            2   \n",
       "5628                                15            2            2   \n",
       "5629                                13            2            2   \n",
       "\n",
       "      day_since_last_order  cashback_amount  \n",
       "0                        5              160  \n",
       "1                        0              121  \n",
       "2                        3              120  \n",
       "3                        3              134  \n",
       "4                        3              130  \n",
       "...                    ...              ...  \n",
       "5625                     4              151  \n",
       "5626                     5              225  \n",
       "5627                     4              186  \n",
       "5628                     9              179  \n",
       "5629                     3              169  \n",
       "\n",
       "[5630 rows x 20 columns]"
      ]
     },
     "execution_count": 16,
     "metadata": {},
     "output_type": "execute_result"
    }
   ],
   "source": [
    "explore_data_cat(data)"
   ]
  },
  {
   "cell_type": "markdown",
   "id": "80ab8a58",
   "metadata": {},
   "source": [
    "We can notice that in some of the columns there are duplicated values. We can merge them."
   ]
  },
  {
   "cell_type": "code",
   "execution_count": 17,
   "id": "be23f177",
   "metadata": {},
   "outputs": [],
   "source": [
    "# Column 'preferred_login_device'\n",
    "data.loc[data['preferred_login_device'] == 'Phone', 'preferred_login_device'] = 'Mobile Phone' \n",
    "\n",
    "\n",
    "# Column 'preferred_payment_mode'\n",
    "data.loc[data['preferred_payment_mode'] == 'CC', 'preferred_payment_mode'] = 'Credit Card' \n",
    "data.loc[data['preferred_payment_mode'] == 'COD', 'preferred_payment_mode'] = 'Cash on Delivery' \n",
    "\n",
    "\n",
    "# Column 'preferred_order_category'\n",
    "data.loc[data['preferred_order_category'] == 'Mobile', 'preferred_order_category'] = 'Mobile Phone'"
   ]
  },
  {
   "cell_type": "markdown",
   "id": "01eb7b48",
   "metadata": {},
   "source": [
    "<h3>1.4 Exploring target value</h3>"
   ]
  },
  {
   "cell_type": "code",
   "execution_count": 18,
   "id": "7fed271f",
   "metadata": {},
   "outputs": [
    {
     "data": {
      "text/plain": [
       "0    4682\n",
       "1     948\n",
       "Name: churn, dtype: int64"
      ]
     },
     "execution_count": 18,
     "metadata": {},
     "output_type": "execute_result"
    }
   ],
   "source": [
    "data['churn'].value_counts()"
   ]
  },
  {
   "cell_type": "code",
   "execution_count": 19,
   "id": "fd1682aa",
   "metadata": {},
   "outputs": [
    {
     "data": {
      "image/png": "[encoded data removed]",
      "text/plain": [
       "<Figure size 640x480 with 1 Axes>"
      ]
     },
     "metadata": {},
     "output_type": "display_data"
    }
   ],
   "source": [
    "sns.countplot(x='churn', data=data);\n",
    "plt.show()"
   ]
  },
  {
   "cell_type": "markdown",
   "id": "310166b1",
   "metadata": {},
   "source": [
    "We have a noticeable data imbalance in our target value (column 'churn'), so we will try to deal with it when we will train our model."
   ]
  },
  {
   "cell_type": "markdown",
   "id": "d9d7b9cf",
   "metadata": {},
   "source": [
    "<h2>Part 2. Insights we can get from this dataset</h2>"
   ]
  },
  {
   "cell_type": "code",
   "execution_count": 20,
   "id": "ed0f64eb",
   "metadata": {},
   "outputs": [
    {
     "data": {
      "text/html": [
       "<div>\n",
       "<style scoped>\n",
       "    .dataframe tbody tr th:only-of-type {\n",
       "        vertical-align: middle;\n",
       "    }\n",
       "\n",
       "    .dataframe tbody tr th {\n",
       "        vertical-align: top;\n",
       "    }\n",
       "\n",
       "    .dataframe thead th {\n",
       "        text-align: right;\n",
       "    }\n",
       "</style>\n",
       "<table border=\"1\" class=\"dataframe\">\n",
       "  <thead>\n",
       "    <tr style=\"text-align: right;\">\n",
       "      <th></th>\n",
       "      <th>customer_id</th>\n",
       "      <th>churn</th>\n",
       "      <th>tenure</th>\n",
       "      <th>preferred_login_device</th>\n",
       "      <th>city_tier</th>\n",
       "      <th>warehouse_to_home</th>\n",
       "      <th>preferred_payment_mode</th>\n",
       "      <th>gender</th>\n",
       "      <th>hour_spend_on_app</th>\n",
       "      <th>number_of_device_registered</th>\n",
       "      <th>preferred_order_category</th>\n",
       "      <th>satisfaction_score</th>\n",
       "      <th>marital_status</th>\n",
       "      <th>number_of_address</th>\n",
       "      <th>complain</th>\n",
       "      <th>order_amount_hike_from_last_year</th>\n",
       "      <th>coupon_used</th>\n",
       "      <th>order_count</th>\n",
       "      <th>day_since_last_order</th>\n",
       "      <th>cashback_amount</th>\n",
       "    </tr>\n",
       "  </thead>\n",
       "  <tbody>\n",
       "    <tr>\n",
       "      <th>0</th>\n",
       "      <td>50001</td>\n",
       "      <td>1</td>\n",
       "      <td>4</td>\n",
       "      <td>Mobile Phone</td>\n",
       "      <td>3</td>\n",
       "      <td>6</td>\n",
       "      <td>Debit Card</td>\n",
       "      <td>Female</td>\n",
       "      <td>3</td>\n",
       "      <td>3</td>\n",
       "      <td>Laptop &amp; Accessory</td>\n",
       "      <td>2</td>\n",
       "      <td>Single</td>\n",
       "      <td>9</td>\n",
       "      <td>1</td>\n",
       "      <td>11</td>\n",
       "      <td>1</td>\n",
       "      <td>1</td>\n",
       "      <td>5</td>\n",
       "      <td>160</td>\n",
       "    </tr>\n",
       "    <tr>\n",
       "      <th>1</th>\n",
       "      <td>50002</td>\n",
       "      <td>1</td>\n",
       "      <td>10</td>\n",
       "      <td>Mobile Phone</td>\n",
       "      <td>1</td>\n",
       "      <td>8</td>\n",
       "      <td>UPI</td>\n",
       "      <td>Male</td>\n",
       "      <td>3</td>\n",
       "      <td>4</td>\n",
       "      <td>Mobile Phone</td>\n",
       "      <td>3</td>\n",
       "      <td>Single</td>\n",
       "      <td>7</td>\n",
       "      <td>1</td>\n",
       "      <td>15</td>\n",
       "      <td>0</td>\n",
       "      <td>1</td>\n",
       "      <td>0</td>\n",
       "      <td>121</td>\n",
       "    </tr>\n",
       "    <tr>\n",
       "      <th>2</th>\n",
       "      <td>50003</td>\n",
       "      <td>1</td>\n",
       "      <td>10</td>\n",
       "      <td>Mobile Phone</td>\n",
       "      <td>1</td>\n",
       "      <td>30</td>\n",
       "      <td>Debit Card</td>\n",
       "      <td>Male</td>\n",
       "      <td>2</td>\n",
       "      <td>4</td>\n",
       "      <td>Mobile Phone</td>\n",
       "      <td>3</td>\n",
       "      <td>Single</td>\n",
       "      <td>6</td>\n",
       "      <td>1</td>\n",
       "      <td>14</td>\n",
       "      <td>0</td>\n",
       "      <td>1</td>\n",
       "      <td>3</td>\n",
       "      <td>120</td>\n",
       "    </tr>\n",
       "    <tr>\n",
       "      <th>3</th>\n",
       "      <td>50004</td>\n",
       "      <td>1</td>\n",
       "      <td>0</td>\n",
       "      <td>Mobile Phone</td>\n",
       "      <td>3</td>\n",
       "      <td>15</td>\n",
       "      <td>Debit Card</td>\n",
       "      <td>Male</td>\n",
       "      <td>2</td>\n",
       "      <td>4</td>\n",
       "      <td>Laptop &amp; Accessory</td>\n",
       "      <td>5</td>\n",
       "      <td>Single</td>\n",
       "      <td>8</td>\n",
       "      <td>0</td>\n",
       "      <td>23</td>\n",
       "      <td>0</td>\n",
       "      <td>1</td>\n",
       "      <td>3</td>\n",
       "      <td>134</td>\n",
       "    </tr>\n",
       "    <tr>\n",
       "      <th>4</th>\n",
       "      <td>50005</td>\n",
       "      <td>1</td>\n",
       "      <td>0</td>\n",
       "      <td>Mobile Phone</td>\n",
       "      <td>1</td>\n",
       "      <td>12</td>\n",
       "      <td>Credit Card</td>\n",
       "      <td>Male</td>\n",
       "      <td>3</td>\n",
       "      <td>3</td>\n",
       "      <td>Mobile Phone</td>\n",
       "      <td>5</td>\n",
       "      <td>Single</td>\n",
       "      <td>3</td>\n",
       "      <td>0</td>\n",
       "      <td>11</td>\n",
       "      <td>1</td>\n",
       "      <td>1</td>\n",
       "      <td>3</td>\n",
       "      <td>130</td>\n",
       "    </tr>\n",
       "  </tbody>\n",
       "</table>\n",
       "</div>"
      ],
      "text/plain": [
       "   customer_id  churn  tenure preferred_login_device  city_tier  \\\n",
       "0        50001      1       4           Mobile Phone          3   \n",
       "1        50002      1      10           Mobile Phone          1   \n",
       "2        50003      1      10           Mobile Phone          1   \n",
       "3        50004      1       0           Mobile Phone          3   \n",
       "4        50005      1       0           Mobile Phone          1   \n",
       "\n",
       "   warehouse_to_home preferred_payment_mode  gender  hour_spend_on_app  \\\n",
       "0                  6             Debit Card  Female                  3   \n",
       "1                  8                    UPI    Male                  3   \n",
       "2                 30             Debit Card    Male                  2   \n",
       "3                 15             Debit Card    Male                  2   \n",
       "4                 12            Credit Card    Male                  3   \n",
       "\n",
       "   number_of_device_registered preferred_order_category  satisfaction_score  \\\n",
       "0                            3       Laptop & Accessory                   2   \n",
       "1                            4             Mobile Phone                   3   \n",
       "2                            4             Mobile Phone                   3   \n",
       "3                            4       Laptop & Accessory                   5   \n",
       "4                            3             Mobile Phone                   5   \n",
       "\n",
       "  marital_status  number_of_address  complain  \\\n",
       "0         Single                  9         1   \n",
       "1         Single                  7         1   \n",
       "2         Single                  6         1   \n",
       "3         Single                  8         0   \n",
       "4         Single                  3         0   \n",
       "\n",
       "   order_amount_hike_from_last_year  coupon_used  order_count  \\\n",
       "0                                11            1            1   \n",
       "1                                15            0            1   \n",
       "2                                14            0            1   \n",
       "3                                23            0            1   \n",
       "4                                11            1            1   \n",
       "\n",
       "   day_since_last_order  cashback_amount  \n",
       "0                     5              160  \n",
       "1                     0              121  \n",
       "2                     3              120  \n",
       "3                     3              134  \n",
       "4                     3              130  "
      ]
     },
     "execution_count": 20,
     "metadata": {},
     "output_type": "execute_result"
    }
   ],
   "source": [
    "data.head()"
   ]
  },
  {
   "cell_type": "markdown",
   "id": "65a22469",
   "metadata": {},
   "source": [
    "<h3>2.1 The ratio of use of the different payment modes</h3>"
   ]
  },
  {
   "cell_type": "code",
   "execution_count": 21,
   "id": "ba2c4308",
   "metadata": {},
   "outputs": [
    {
     "data": {
      "text/html": [
       "<div>\n",
       "<style scoped>\n",
       "    .dataframe tbody tr th:only-of-type {\n",
       "        vertical-align: middle;\n",
       "    }\n",
       "\n",
       "    .dataframe tbody tr th {\n",
       "        vertical-align: top;\n",
       "    }\n",
       "\n",
       "    .dataframe thead th {\n",
       "        text-align: right;\n",
       "    }\n",
       "</style>\n",
       "<table border=\"1\" class=\"dataframe\">\n",
       "  <thead>\n",
       "    <tr style=\"text-align: right;\">\n",
       "      <th></th>\n",
       "      <th>payment_mode</th>\n",
       "      <th>count</th>\n",
       "    </tr>\n",
       "  </thead>\n",
       "  <tbody>\n",
       "    <tr>\n",
       "      <th>0</th>\n",
       "      <td>Debit Card</td>\n",
       "      <td>2314</td>\n",
       "    </tr>\n",
       "    <tr>\n",
       "      <th>1</th>\n",
       "      <td>Credit Card</td>\n",
       "      <td>1774</td>\n",
       "    </tr>\n",
       "    <tr>\n",
       "      <th>2</th>\n",
       "      <td>E wallet</td>\n",
       "      <td>614</td>\n",
       "    </tr>\n",
       "    <tr>\n",
       "      <th>3</th>\n",
       "      <td>Cash on Delivery</td>\n",
       "      <td>514</td>\n",
       "    </tr>\n",
       "    <tr>\n",
       "      <th>4</th>\n",
       "      <td>UPI</td>\n",
       "      <td>414</td>\n",
       "    </tr>\n",
       "  </tbody>\n",
       "</table>\n",
       "</div>"
      ],
      "text/plain": [
       "       payment_mode  count\n",
       "0        Debit Card   2314\n",
       "1       Credit Card   1774\n",
       "2          E wallet    614\n",
       "3  Cash on Delivery    514\n",
       "4               UPI    414"
      ]
     },
     "execution_count": 21,
     "metadata": {},
     "output_type": "execute_result"
    }
   ],
   "source": [
    "data_payment_mode  = data['preferred_payment_mode'].value_counts().reset_index()\n",
    "data_payment_mode.columns = ['payment_mode', 'count']\n",
    "data_payment_mode"
   ]
  },
  {
   "cell_type": "code",
   "execution_count": 22,
   "id": "18a3516a",
   "metadata": {},
   "outputs": [
    {
     "data": {
      "image/png": "[encoded data removed]",
      "text/plain": [
       "<Figure size 640x480 with 1 Axes>"
      ]
     },
     "metadata": {},
     "output_type": "display_data"
    }
   ],
   "source": [
    "labels = list(data_payment_mode['payment_mode'].unique())\n",
    "colors = sns.color_palette('pastel')[0:5]\n",
    "plt.pie(data_payment_mode['count'], labels = data_payment_mode['payment_mode'], colors = colors, autopct='%.0f%%')\n",
    "plt.show()"
   ]
  },
  {
   "cell_type": "markdown",
   "id": "1136fc8b",
   "metadata": {},
   "source": [
    "Debit Card is the most popular payment option (41%), after that goes Credit Card (32%) and another three options are having almost the same ratio."
   ]
  },
  {
   "cell_type": "markdown",
   "id": "7ba31ee5",
   "metadata": {},
   "source": [
    "<h3>2.2 The ratio of use of different login devices </h3>"
   ]
  },
  {
   "cell_type": "code",
   "execution_count": 23,
   "id": "3e0699db",
   "metadata": {},
   "outputs": [
    {
     "data": {
      "text/html": [
       "<div>\n",
       "<style scoped>\n",
       "    .dataframe tbody tr th:only-of-type {\n",
       "        vertical-align: middle;\n",
       "    }\n",
       "\n",
       "    .dataframe tbody tr th {\n",
       "        vertical-align: top;\n",
       "    }\n",
       "\n",
       "    .dataframe thead th {\n",
       "        text-align: right;\n",
       "    }\n",
       "</style>\n",
       "<table border=\"1\" class=\"dataframe\">\n",
       "  <thead>\n",
       "    <tr style=\"text-align: right;\">\n",
       "      <th></th>\n",
       "      <th>login_device</th>\n",
       "      <th>count</th>\n",
       "    </tr>\n",
       "  </thead>\n",
       "  <tbody>\n",
       "    <tr>\n",
       "      <th>0</th>\n",
       "      <td>Mobile Phone</td>\n",
       "      <td>3996</td>\n",
       "    </tr>\n",
       "    <tr>\n",
       "      <th>1</th>\n",
       "      <td>Computer</td>\n",
       "      <td>1634</td>\n",
       "    </tr>\n",
       "  </tbody>\n",
       "</table>\n",
       "</div>"
      ],
      "text/plain": [
       "   login_device  count\n",
       "0  Mobile Phone   3996\n",
       "1      Computer   1634"
      ]
     },
     "execution_count": 23,
     "metadata": {},
     "output_type": "execute_result"
    }
   ],
   "source": [
    "data_login_device  = data['preferred_login_device'].value_counts().reset_index()\n",
    "data_login_device.columns = ['login_device', 'count']\n",
    "data_login_device"
   ]
  },
  {
   "cell_type": "code",
   "execution_count": 24,
   "id": "6876c53c",
   "metadata": {},
   "outputs": [
    {
     "data": {
      "image/png": "[encoded data removed]",
      "text/plain": [
       "<Figure size 640x480 with 1 Axes>"
      ]
     },
     "metadata": {},
     "output_type": "display_data"
    }
   ],
   "source": [
    "labels = list(data_login_device['login_device'].unique())\n",
    "colors = sns.color_palette('pastel')[0:5]\n",
    "plt.pie(data_login_device['count'], labels = data_login_device['login_device'], colors = colors, autopct='%.0f%%')\n",
    "plt.show()"
   ]
  },
  {
   "cell_type": "markdown",
   "id": "26720e74",
   "metadata": {},
   "source": [
    "As we can see - more than 2/3 (71%) of the customers use a mobile phone to login into the service."
   ]
  },
  {
   "cell_type": "markdown",
   "id": "a6e6c4da",
   "metadata": {},
   "source": [
    "<h3>2.3 From which category do customers order the most? </h3>"
   ]
  },
  {
   "cell_type": "code",
   "execution_count": 25,
   "id": "cda3521b",
   "metadata": {},
   "outputs": [
    {
     "data": {
      "text/html": [
       "<div>\n",
       "<style scoped>\n",
       "    .dataframe tbody tr th:only-of-type {\n",
       "        vertical-align: middle;\n",
       "    }\n",
       "\n",
       "    .dataframe tbody tr th {\n",
       "        vertical-align: top;\n",
       "    }\n",
       "\n",
       "    .dataframe thead th {\n",
       "        text-align: right;\n",
       "    }\n",
       "</style>\n",
       "<table border=\"1\" class=\"dataframe\">\n",
       "  <thead>\n",
       "    <tr style=\"text-align: right;\">\n",
       "      <th></th>\n",
       "      <th>index</th>\n",
       "      <th>preferred_order_category</th>\n",
       "    </tr>\n",
       "  </thead>\n",
       "  <tbody>\n",
       "    <tr>\n",
       "      <th>0</th>\n",
       "      <td>Mobile Phone</td>\n",
       "      <td>2080</td>\n",
       "    </tr>\n",
       "    <tr>\n",
       "      <th>1</th>\n",
       "      <td>Laptop &amp; Accessory</td>\n",
       "      <td>2050</td>\n",
       "    </tr>\n",
       "    <tr>\n",
       "      <th>2</th>\n",
       "      <td>Fashion</td>\n",
       "      <td>826</td>\n",
       "    </tr>\n",
       "    <tr>\n",
       "      <th>3</th>\n",
       "      <td>Grocery</td>\n",
       "      <td>410</td>\n",
       "    </tr>\n",
       "    <tr>\n",
       "      <th>4</th>\n",
       "      <td>Others</td>\n",
       "      <td>264</td>\n",
       "    </tr>\n",
       "  </tbody>\n",
       "</table>\n",
       "</div>"
      ],
      "text/plain": [
       "                index  preferred_order_category\n",
       "0        Mobile Phone                      2080\n",
       "1  Laptop & Accessory                      2050\n",
       "2             Fashion                       826\n",
       "3             Grocery                       410\n",
       "4              Others                       264"
      ]
     },
     "execution_count": 25,
     "metadata": {},
     "output_type": "execute_result"
    }
   ],
   "source": [
    "data_order_category = data['preferred_order_category'].value_counts().reset_index()\n",
    "data_order_category"
   ]
  },
  {
   "cell_type": "code",
   "execution_count": 26,
   "id": "9720973c",
   "metadata": {},
   "outputs": [
    {
     "data": {
      "image/png": "[encoded data removed]",
      "text/plain": [
       "<Figure size 600x500 with 1 Axes>"
      ]
     },
     "metadata": {},
     "output_type": "display_data"
    }
   ],
   "source": [
    "plt.figure(figsize = (6,5))\n",
    "sns.set_style('ticks')\n",
    "order_category_plot = sns.countplot(x  = 'preferred_order_category',  data = data, palette = 'husl')\n",
    "order_category_plot.set_xticklabels(order_category_plot.get_xticklabels(),rotation = 30)\n",
    "plt.show()"
   ]
  },
  {
   "cell_type": "markdown",
   "id": "f04476bc",
   "metadata": {},
   "source": [
    "The most popular category is 'Mobile Phone', right after it - 'Laptop & Accessory', then 'Fashion' and the rest two - 'Grocery' and 'Others'."
   ]
  },
  {
   "cell_type": "markdown",
   "id": "bc86e0ac",
   "metadata": {},
   "source": [
    "<h3>2.4 Size of the city customers live in, typical distance from warehouse to home</h3>"
   ]
  },
  {
   "cell_type": "code",
   "execution_count": 27,
   "id": "1cc8915f",
   "metadata": {},
   "outputs": [
    {
     "data": {
      "text/html": [
       "<div>\n",
       "<style scoped>\n",
       "    .dataframe tbody tr th:only-of-type {\n",
       "        vertical-align: middle;\n",
       "    }\n",
       "\n",
       "    .dataframe tbody tr th {\n",
       "        vertical-align: top;\n",
       "    }\n",
       "\n",
       "    .dataframe thead th {\n",
       "        text-align: right;\n",
       "    }\n",
       "</style>\n",
       "<table border=\"1\" class=\"dataframe\">\n",
       "  <thead>\n",
       "    <tr style=\"text-align: right;\">\n",
       "      <th></th>\n",
       "      <th>index</th>\n",
       "      <th>city_tier</th>\n",
       "    </tr>\n",
       "  </thead>\n",
       "  <tbody>\n",
       "    <tr>\n",
       "      <th>0</th>\n",
       "      <td>1</td>\n",
       "      <td>3666</td>\n",
       "    </tr>\n",
       "    <tr>\n",
       "      <th>1</th>\n",
       "      <td>3</td>\n",
       "      <td>1722</td>\n",
       "    </tr>\n",
       "    <tr>\n",
       "      <th>2</th>\n",
       "      <td>2</td>\n",
       "      <td>242</td>\n",
       "    </tr>\n",
       "  </tbody>\n",
       "</table>\n",
       "</div>"
      ],
      "text/plain": [
       "   index  city_tier\n",
       "0      1       3666\n",
       "1      3       1722\n",
       "2      2        242"
      ]
     },
     "execution_count": 27,
     "metadata": {},
     "output_type": "execute_result"
    }
   ],
   "source": [
    "data_city_tier = data['city_tier'].value_counts().reset_index()\n",
    "data_city_tier"
   ]
  },
  {
   "cell_type": "code",
   "execution_count": 28,
   "id": "66470cc1",
   "metadata": {},
   "outputs": [
    {
     "data": {
      "image/png": "[encoded data removed]",
      "text/plain": [
       "<Figure size 600x500 with 1 Axes>"
      ]
     },
     "metadata": {},
     "output_type": "display_data"
    }
   ],
   "source": [
    "plt.figure(figsize = (6,5))\n",
    "sns.countplot(x ='city_tier', data = data,\n",
    "              palette = 'pastel',\n",
    "              order = data['city_tier'].value_counts().index) \n",
    "plt.xlabel('city_tier');"
   ]
  },
  {
   "cell_type": "markdown",
   "id": "a25432fd",
   "metadata": {},
   "source": [
    "Most of the customers live in the big cities, but at the same time about a quater of all the customers live in tier 3 cities."
   ]
  },
  {
   "cell_type": "code",
   "execution_count": 29,
   "id": "15b19c1c",
   "metadata": {},
   "outputs": [
    {
     "data": {
      "text/html": [
       "<div>\n",
       "<style scoped>\n",
       "    .dataframe tbody tr th:only-of-type {\n",
       "        vertical-align: middle;\n",
       "    }\n",
       "\n",
       "    .dataframe tbody tr th {\n",
       "        vertical-align: top;\n",
       "    }\n",
       "\n",
       "    .dataframe thead th {\n",
       "        text-align: right;\n",
       "    }\n",
       "</style>\n",
       "<table border=\"1\" class=\"dataframe\">\n",
       "  <thead>\n",
       "    <tr style=\"text-align: right;\">\n",
       "      <th></th>\n",
       "      <th>index</th>\n",
       "      <th>warehouse_to_home</th>\n",
       "    </tr>\n",
       "  </thead>\n",
       "  <tbody>\n",
       "    <tr>\n",
       "      <th>0</th>\n",
       "      <td>16</td>\n",
       "      <td>573</td>\n",
       "    </tr>\n",
       "    <tr>\n",
       "      <th>1</th>\n",
       "      <td>9</td>\n",
       "      <td>559</td>\n",
       "    </tr>\n",
       "    <tr>\n",
       "      <th>2</th>\n",
       "      <td>8</td>\n",
       "      <td>444</td>\n",
       "    </tr>\n",
       "    <tr>\n",
       "      <th>3</th>\n",
       "      <td>7</td>\n",
       "      <td>389</td>\n",
       "    </tr>\n",
       "    <tr>\n",
       "      <th>4</th>\n",
       "      <td>14</td>\n",
       "      <td>299</td>\n",
       "    </tr>\n",
       "  </tbody>\n",
       "</table>\n",
       "</div>"
      ],
      "text/plain": [
       "   index  warehouse_to_home\n",
       "0     16                573\n",
       "1      9                559\n",
       "2      8                444\n",
       "3      7                389\n",
       "4     14                299"
      ]
     },
     "execution_count": 29,
     "metadata": {},
     "output_type": "execute_result"
    }
   ],
   "source": [
    "data_warehouse_to_home = data['warehouse_to_home'].value_counts().reset_index()\n",
    "data_warehouse_to_home.head()"
   ]
  },
  {
   "cell_type": "code",
   "execution_count": 30,
   "id": "1590f38b",
   "metadata": {},
   "outputs": [
    {
     "data": {
      "text/plain": [
       "<AxesSubplot:>"
      ]
     },
     "execution_count": 30,
     "metadata": {},
     "output_type": "execute_result"
    },
    {
     "data": {
      "image/png": "[encoded data removed]",
      "text/plain": [
       "<Figure size 640x480 with 1 Axes>"
      ]
     },
     "metadata": {},
     "output_type": "display_data"
    }
   ],
   "source": [
    "data['warehouse_to_home'].hist(range=(0,60), bins=50)"
   ]
  },
  {
   "cell_type": "code",
   "execution_count": 31,
   "id": "e5bdbfe0",
   "metadata": {},
   "outputs": [
    {
     "data": {
      "text/plain": [
       "<AxesSubplot:xlabel='warehouse_to_home'>"
      ]
     },
     "execution_count": 31,
     "metadata": {},
     "output_type": "execute_result"
    },
    {
     "data": {
      "image/png": "[encoded data removed]",
      "text/plain": [
       "<Figure size 640x480 with 1 Axes>"
      ]
     },
     "metadata": {},
     "output_type": "display_data"
    }
   ],
   "source": [
    "sns.boxplot(data=data, x=\"warehouse_to_home\")"
   ]
  },
  {
   "cell_type": "code",
   "execution_count": 32,
   "id": "7429dd8f",
   "metadata": {},
   "outputs": [
    {
     "data": {
      "text/plain": [
       "15.65595026642984"
      ]
     },
     "execution_count": 32,
     "metadata": {},
     "output_type": "execute_result"
    }
   ],
   "source": [
    "data['warehouse_to_home'].mean()"
   ]
  },
  {
   "cell_type": "code",
   "execution_count": 33,
   "id": "ce64b93f",
   "metadata": {},
   "outputs": [
    {
     "data": {
      "text/plain": [
       "127"
      ]
     },
     "execution_count": 33,
     "metadata": {},
     "output_type": "execute_result"
    }
   ],
   "source": [
    "data['warehouse_to_home'].max()"
   ]
  },
  {
   "cell_type": "markdown",
   "id": "5420cadb",
   "metadata": {},
   "source": [
    "Distance between warehouse and home of customer is usually around 6-16km, average distance - 15.6km. Some of the customers live in the area 16-40km and we can see a few outliers somewhere over 120km - we can delete these rows."
   ]
  },
  {
   "cell_type": "code",
   "execution_count": 34,
   "id": "a3a36d5a",
   "metadata": {},
   "outputs": [
    {
     "data": {
      "text/plain": [
       "36"
      ]
     },
     "execution_count": 34,
     "metadata": {},
     "output_type": "execute_result"
    }
   ],
   "source": [
    "data = data[data['warehouse_to_home'] <= 40]\n",
    "data['warehouse_to_home'].max()"
   ]
  },
  {
   "cell_type": "markdown",
   "id": "f2524a00",
   "metadata": {},
   "source": [
    "<h3>2.5 How often people make orders? How many orders on average each customer make?</h3>"
   ]
  },
  {
   "cell_type": "code",
   "execution_count": 35,
   "id": "f28cb7aa",
   "metadata": {},
   "outputs": [
    {
     "data": {
      "text/plain": [
       "4.569829424307036"
      ]
     },
     "execution_count": 35,
     "metadata": {},
     "output_type": "execute_result"
    }
   ],
   "source": [
    "data['day_since_last_order'].mean()"
   ]
  },
  {
   "cell_type": "code",
   "execution_count": 36,
   "id": "aba5d9de",
   "metadata": {},
   "outputs": [
    {
     "data": {
      "text/plain": [
       "<AxesSubplot:>"
      ]
     },
     "execution_count": 36,
     "metadata": {},
     "output_type": "execute_result"
    },
    {
     "data": {
      "image/png": "[encoded data removed]",
      "text/plain": [
       "<Figure size 640x480 with 1 Axes>"
      ]
     },
     "metadata": {},
     "output_type": "display_data"
    }
   ],
   "source": [
    "data['day_since_last_order'].hist(range=(0,20), bins = 30)\n"
   ]
  },
  {
   "cell_type": "markdown",
   "id": "67313887",
   "metadata": {},
   "source": [
    "Most of the customers buy products again every 1-8 days. Some of them buy products once per 2 weeks. \n",
    "The most popular frequency is 3-4 days."
   ]
  },
  {
   "cell_type": "code",
   "execution_count": 37,
   "id": "93511556",
   "metadata": {},
   "outputs": [
    {
     "data": {
      "text/plain": [
       "<AxesSubplot:>"
      ]
     },
     "execution_count": 37,
     "metadata": {},
     "output_type": "execute_result"
    },
    {
     "data": {
      "image/png": "[encoded data removed]",
      "text/plain": [
       "<Figure size 640x480 with 1 Axes>"
      ]
     },
     "metadata": {},
     "output_type": "display_data"
    }
   ],
   "source": [
    "data['order_count'].hist(bins = 30)"
   ]
  },
  {
   "cell_type": "markdown",
   "id": "46702d58",
   "metadata": {},
   "source": [
    "Most of the customers have only 1-2 orders in total, but this service definitely has regular customers sa well (some people placed orders 4-8-15 times)."
   ]
  },
  {
   "cell_type": "markdown",
   "id": "6dfe14e1",
   "metadata": {},
   "source": [
    "<h2>Part 4. Correlation matrix and feature extraction</h2>\n"
   ]
  },
  {
   "cell_type": "markdown",
   "id": "28c10349",
   "metadata": {},
   "source": [
    "Each row has it's unique customer_id, so it make sence to delete this column."
   ]
  },
  {
   "cell_type": "code",
   "execution_count": 38,
   "id": "a28f3b5f",
   "metadata": {},
   "outputs": [
    {
     "data": {
      "text/html": [
       "<div>\n",
       "<style scoped>\n",
       "    .dataframe tbody tr th:only-of-type {\n",
       "        vertical-align: middle;\n",
       "    }\n",
       "\n",
       "    .dataframe tbody tr th {\n",
       "        vertical-align: top;\n",
       "    }\n",
       "\n",
       "    .dataframe thead th {\n",
       "        text-align: right;\n",
       "    }\n",
       "</style>\n",
       "<table border=\"1\" class=\"dataframe\">\n",
       "  <thead>\n",
       "    <tr style=\"text-align: right;\">\n",
       "      <th></th>\n",
       "      <th>churn</th>\n",
       "      <th>tenure</th>\n",
       "      <th>preferred_login_device</th>\n",
       "      <th>city_tier</th>\n",
       "      <th>warehouse_to_home</th>\n",
       "      <th>preferred_payment_mode</th>\n",
       "      <th>gender</th>\n",
       "      <th>hour_spend_on_app</th>\n",
       "      <th>number_of_device_registered</th>\n",
       "      <th>preferred_order_category</th>\n",
       "      <th>satisfaction_score</th>\n",
       "      <th>marital_status</th>\n",
       "      <th>number_of_address</th>\n",
       "      <th>complain</th>\n",
       "      <th>order_amount_hike_from_last_year</th>\n",
       "      <th>coupon_used</th>\n",
       "      <th>order_count</th>\n",
       "      <th>day_since_last_order</th>\n",
       "      <th>cashback_amount</th>\n",
       "    </tr>\n",
       "  </thead>\n",
       "  <tbody>\n",
       "    <tr>\n",
       "      <th>0</th>\n",
       "      <td>1</td>\n",
       "      <td>4</td>\n",
       "      <td>Mobile Phone</td>\n",
       "      <td>3</td>\n",
       "      <td>6</td>\n",
       "      <td>Debit Card</td>\n",
       "      <td>Female</td>\n",
       "      <td>3</td>\n",
       "      <td>3</td>\n",
       "      <td>Laptop &amp; Accessory</td>\n",
       "      <td>2</td>\n",
       "      <td>Single</td>\n",
       "      <td>9</td>\n",
       "      <td>1</td>\n",
       "      <td>11</td>\n",
       "      <td>1</td>\n",
       "      <td>1</td>\n",
       "      <td>5</td>\n",
       "      <td>160</td>\n",
       "    </tr>\n",
       "    <tr>\n",
       "      <th>1</th>\n",
       "      <td>1</td>\n",
       "      <td>10</td>\n",
       "      <td>Mobile Phone</td>\n",
       "      <td>1</td>\n",
       "      <td>8</td>\n",
       "      <td>UPI</td>\n",
       "      <td>Male</td>\n",
       "      <td>3</td>\n",
       "      <td>4</td>\n",
       "      <td>Mobile Phone</td>\n",
       "      <td>3</td>\n",
       "      <td>Single</td>\n",
       "      <td>7</td>\n",
       "      <td>1</td>\n",
       "      <td>15</td>\n",
       "      <td>0</td>\n",
       "      <td>1</td>\n",
       "      <td>0</td>\n",
       "      <td>121</td>\n",
       "    </tr>\n",
       "    <tr>\n",
       "      <th>2</th>\n",
       "      <td>1</td>\n",
       "      <td>10</td>\n",
       "      <td>Mobile Phone</td>\n",
       "      <td>1</td>\n",
       "      <td>30</td>\n",
       "      <td>Debit Card</td>\n",
       "      <td>Male</td>\n",
       "      <td>2</td>\n",
       "      <td>4</td>\n",
       "      <td>Mobile Phone</td>\n",
       "      <td>3</td>\n",
       "      <td>Single</td>\n",
       "      <td>6</td>\n",
       "      <td>1</td>\n",
       "      <td>14</td>\n",
       "      <td>0</td>\n",
       "      <td>1</td>\n",
       "      <td>3</td>\n",
       "      <td>120</td>\n",
       "    </tr>\n",
       "    <tr>\n",
       "      <th>3</th>\n",
       "      <td>1</td>\n",
       "      <td>0</td>\n",
       "      <td>Mobile Phone</td>\n",
       "      <td>3</td>\n",
       "      <td>15</td>\n",
       "      <td>Debit Card</td>\n",
       "      <td>Male</td>\n",
       "      <td>2</td>\n",
       "      <td>4</td>\n",
       "      <td>Laptop &amp; Accessory</td>\n",
       "      <td>5</td>\n",
       "      <td>Single</td>\n",
       "      <td>8</td>\n",
       "      <td>0</td>\n",
       "      <td>23</td>\n",
       "      <td>0</td>\n",
       "      <td>1</td>\n",
       "      <td>3</td>\n",
       "      <td>134</td>\n",
       "    </tr>\n",
       "    <tr>\n",
       "      <th>4</th>\n",
       "      <td>1</td>\n",
       "      <td>0</td>\n",
       "      <td>Mobile Phone</td>\n",
       "      <td>1</td>\n",
       "      <td>12</td>\n",
       "      <td>Credit Card</td>\n",
       "      <td>Male</td>\n",
       "      <td>3</td>\n",
       "      <td>3</td>\n",
       "      <td>Mobile Phone</td>\n",
       "      <td>5</td>\n",
       "      <td>Single</td>\n",
       "      <td>3</td>\n",
       "      <td>0</td>\n",
       "      <td>11</td>\n",
       "      <td>1</td>\n",
       "      <td>1</td>\n",
       "      <td>3</td>\n",
       "      <td>130</td>\n",
       "    </tr>\n",
       "  </tbody>\n",
       "</table>\n",
       "</div>"
      ],
      "text/plain": [
       "   churn  tenure preferred_login_device  city_tier  warehouse_to_home  \\\n",
       "0      1       4           Mobile Phone          3                  6   \n",
       "1      1      10           Mobile Phone          1                  8   \n",
       "2      1      10           Mobile Phone          1                 30   \n",
       "3      1       0           Mobile Phone          3                 15   \n",
       "4      1       0           Mobile Phone          1                 12   \n",
       "\n",
       "  preferred_payment_mode  gender  hour_spend_on_app  \\\n",
       "0             Debit Card  Female                  3   \n",
       "1                    UPI    Male                  3   \n",
       "2             Debit Card    Male                  2   \n",
       "3             Debit Card    Male                  2   \n",
       "4            Credit Card    Male                  3   \n",
       "\n",
       "   number_of_device_registered preferred_order_category  satisfaction_score  \\\n",
       "0                            3       Laptop & Accessory                   2   \n",
       "1                            4             Mobile Phone                   3   \n",
       "2                            4             Mobile Phone                   3   \n",
       "3                            4       Laptop & Accessory                   5   \n",
       "4                            3             Mobile Phone                   5   \n",
       "\n",
       "  marital_status  number_of_address  complain  \\\n",
       "0         Single                  9         1   \n",
       "1         Single                  7         1   \n",
       "2         Single                  6         1   \n",
       "3         Single                  8         0   \n",
       "4         Single                  3         0   \n",
       "\n",
       "   order_amount_hike_from_last_year  coupon_used  order_count  \\\n",
       "0                                11            1            1   \n",
       "1                                15            0            1   \n",
       "2                                14            0            1   \n",
       "3                                23            0            1   \n",
       "4                                11            1            1   \n",
       "\n",
       "   day_since_last_order  cashback_amount  \n",
       "0                     5              160  \n",
       "1                     0              121  \n",
       "2                     3              120  \n",
       "3                     3              134  \n",
       "4                     3              130  "
      ]
     },
     "execution_count": 38,
     "metadata": {},
     "output_type": "execute_result"
    }
   ],
   "source": [
    "data = data.drop(columns=['customer_id'])\n",
    "data.head()"
   ]
  },
  {
   "cell_type": "code",
   "execution_count": null,
   "id": "cebfa578",
   "metadata": {},
   "outputs": [],
   "source": []
  },
  {
   "cell_type": "code",
   "execution_count": null,
   "id": "89c07ba3",
   "metadata": {},
   "outputs": [],
   "source": []
  },
  {
   "cell_type": "code",
   "execution_count": null,
   "id": "ea665a96",
   "metadata": {},
   "outputs": [],
   "source": []
  },
  {
   "cell_type": "code",
   "execution_count": null,
   "id": "a062b810",
   "metadata": {},
   "outputs": [],
   "source": []
  },
  {
   "cell_type": "code",
   "execution_count": null,
   "id": "0a29a834",
   "metadata": {},
   "outputs": [],
   "source": []
  },
  {
   "cell_type": "code",
   "execution_count": null,
   "id": "9cbf218c",
   "metadata": {},
   "outputs": [],
   "source": []
  },
  {
   "cell_type": "code",
   "execution_count": null,
   "id": "96381dba",
   "metadata": {},
   "outputs": [],
   "source": []
  },
  {
   "cell_type": "code",
   "execution_count": null,
   "id": "503d67a5",
   "metadata": {},
   "outputs": [],
   "source": []
  },
  {
   "cell_type": "code",
   "execution_count": null,
   "id": "f0f5be5b",
   "metadata": {},
   "outputs": [],
   "source": []
  },
  {
   "cell_type": "code",
   "execution_count": null,
   "id": "7aadfa35",
   "metadata": {},
   "outputs": [],
   "source": []
  },
  {
   "cell_type": "code",
   "execution_count": null,
   "id": "8a59e207",
   "metadata": {},
   "outputs": [],
   "source": []
  },
  {
   "cell_type": "code",
   "execution_count": null,
   "id": "8cf1ff88",
   "metadata": {},
   "outputs": [],
   "source": []
  },
  {
   "cell_type": "code",
   "execution_count": null,
   "id": "c980c3b0",
   "metadata": {},
   "outputs": [],
   "source": []
  },
  {
   "cell_type": "code",
   "execution_count": null,
   "id": "56c5113a",
   "metadata": {},
   "outputs": [],
   "source": []
  }
 ],
 "metadata": {
  "kernelspec": {
   "display_name": "Python 3 (ipykernel)",
   "language": "python",
   "name": "python3"
  },
  "language_info": {
   "codemirror_mode": {
    "name": "ipython",
    "version": 3
   },
   "file_extension": ".py",
   "mimetype": "text/x-python",
   "name": "python",
   "nbconvert_exporter": "python",
   "pygments_lexer": "ipython3",
   "version": "3.9.13"
  }
 },
 "nbformat": 4,
 "nbformat_minor": 5
}
